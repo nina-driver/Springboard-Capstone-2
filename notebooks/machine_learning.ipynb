{
 "cells": [
  {
   "cell_type": "code",
   "execution_count": 1,
   "metadata": {},
   "outputs": [],
   "source": [
    "import pandas as pd\n",
    "import numpy as np\n",
    "import matplotlib.pyplot as plt \n",
    "import time\n",
    "from sklearn.metrics import classification_report, plot_confusion_matrix\n",
    "from sklearn.model_selection import train_test_split, GridSearchCV\n",
    "from sklearn.pipeline import Pipeline\n",
    "from sklearn.neighbors import KNeighborsClassifier\n",
    "from sklearn.svm import SVC, NuSVC\n",
    "from sklearn.naive_bayes import GaussianNB\n",
    "from sklearn.ensemble import RandomForestClassifier"
   ]
  },
  {
   "cell_type": "code",
   "execution_count": 2,
   "metadata": {},
   "outputs": [],
   "source": [
    "data = pd.read_csv(\"../data/processed/model_data.csv\")"
   ]
  },
  {
   "cell_type": "markdown",
   "metadata": {},
   "source": [
    "#### Split Data into Training and Test"
   ]
  },
  {
   "cell_type": "code",
   "execution_count": 3,
   "metadata": {},
   "outputs": [],
   "source": [
    "y = np.ravel(data[['status']].values)\n",
    "X = data.iloc[:,1:].values"
   ]
  },
  {
   "cell_type": "code",
   "execution_count": 4,
   "metadata": {},
   "outputs": [],
   "source": [
    "X_train, X_test, y_train, y_test = train_test_split(X, y, test_size=0.3, random_state=21, stratify=y)"
   ]
  },
  {
   "cell_type": "markdown",
   "metadata": {},
   "source": [
    "#### Modeling"
   ]
  },
  {
   "cell_type": "code",
   "execution_count": 5,
   "metadata": {},
   "outputs": [],
   "source": [
    "models = ['KNN', 'SVC', 'NuSVC', 'Bayesian', 'RandomForest']"
   ]
  },
  {
   "cell_type": "code",
   "execution_count": 6,
   "metadata": {},
   "outputs": [],
   "source": [
    "def model_fit_score(model):\n",
    "    if model == 'KNN':\n",
    "        steps = [('knn', KNeighborsClassifier())]\n",
    "        parameters = {'knn__n_neighbors':np.arange(1,50), \n",
    "                      'knn__weights': ['uniform','distance'],\n",
    "                       'knn__algorithm':['auto','ball_tree','kd_tree','brute']}\n",
    "    elif model == 'SVC':\n",
    "        steps = [('svc', SVC())]\n",
    "        parameters = {'svc__C':np.logspace(-3, 2, 6), \n",
    "                      'svc__kernel':['linear','poly','rbf','sigmoid']}\n",
    "    elif model == 'NuSVC':\n",
    "        steps = [('nusvc', NuSVC())]\n",
    "        parameters = {'nusvc__nu':np.arange(0.1,1, .01),\n",
    "                      'nusvc__kernel':['linear','poly','rbf','sigmoid']}\n",
    "    elif model == 'Bayesian':\n",
    "        steps = [('bayes', GaussianNB())]\n",
    "        parameters = {'bayes__var_smoothing': np.logspace(-9,9,19)}\n",
    "    elif model == 'RandomForest':\n",
    "        steps = [('rf', RandomForestClassifier())]\n",
    "        parameters = {'rf__n_estimators': np.arange(10,100,10),\n",
    "                     'rf__criterion':['gini','entropy'],\n",
    "                     'rf__max_depth':np.arange(10,100,10)}\n",
    "    \n",
    "    pipeline = Pipeline(steps)\n",
    "    \n",
    "    cv = GridSearchCV(pipeline, param_grid=parameters, cv=3)\n",
    "    \n",
    "    start_time = time.time()\n",
    "    \n",
    "    cv.fit(X_train, np.ravel(y_train))\n",
    "        \n",
    "    elapsed_time = time.time() - start_time\n",
    "    \n",
    "    print('Evaluation in {:.2f} seconds'.format(elapsed_time))\n",
    "    \n",
    "    print(str(model)+\" Best params:\", cv.best_params_)\n",
    "    print(str(model)+\" Best score:\", cv.best_score_)\n",
    "    \n",
    "    y_pred = cv.predict(X_test)\n",
    "    \n",
    "    print(classification_report(y_test, y_pred, zero_division=0))\n",
    "    plot_confusion_matrix(cv, X_test, y_test)\n",
    "    plt.title(model + \" Confusion Matrix\")\n",
    "    plt.show()\n",
    "    "
   ]
  },
  {
   "cell_type": "markdown",
   "metadata": {},
   "source": [
    "#### K-Nearest Neighbors Model"
   ]
  },
  {
   "cell_type": "code",
   "execution_count": 7,
   "metadata": {},
   "outputs": [
    {
     "name": "stdout",
     "output_type": "stream",
     "text": [
      "Evaluation in 3.64 seconds\n",
      "KNN Best params: {'knn__algorithm': 'auto', 'knn__n_neighbors': 21, 'knn__weights': 'uniform'}\n",
      "KNN Best score: 0.4831541218637993\n",
      "              precision    recall  f1-score   support\n",
      "\n",
      "           0       0.47      0.53      0.50        15\n",
      "           1       0.00      0.00      0.00         9\n",
      "           2       0.36      0.53      0.43        15\n",
      "\n",
      "    accuracy                           0.41        39\n",
      "   macro avg       0.28      0.36      0.31        39\n",
      "weighted avg       0.32      0.41      0.36        39\n",
      "\n"
     ]
    },
    {
     "data": {
      "image/png": "[encoded data removed]",
      "text/plain": [
       "<Figure size 432x288 with 2 Axes>"
      ]
     },
     "metadata": {
      "needs_background": "light"
     },
     "output_type": "display_data"
    }
   ],
   "source": [
    "model_fit_score(models[0])"
   ]
  },
  {
   "cell_type": "markdown",
   "metadata": {},
   "source": [
    "#### SVC Model"
   ]
  },
  {
   "cell_type": "code",
   "execution_count": 8,
   "metadata": {},
   "outputs": [
    {
     "name": "stdout",
     "output_type": "stream",
     "text": [
      "Evaluation in 2.56 seconds\n",
      "SVC Best params: {'svc__C': 0.01, 'svc__kernel': 'linear'}\n",
      "SVC Best score: 0.4838709677419355\n",
      "              precision    recall  f1-score   support\n",
      "\n",
      "           0       0.31      0.27      0.29        15\n",
      "           1       0.00      0.00      0.00         9\n",
      "           2       0.31      0.53      0.39        15\n",
      "\n",
      "    accuracy                           0.31        39\n",
      "   macro avg       0.21      0.27      0.23        39\n",
      "weighted avg       0.24      0.31      0.26        39\n",
      "\n"
     ]
    },
    {
     "data": {
      "image/png": "[encoded data removed]",
      "text/plain": [
       "<Figure size 432x288 with 2 Axes>"
      ]
     },
     "metadata": {
      "needs_background": "light"
     },
     "output_type": "display_data"
    }
   ],
   "source": [
    "model_fit_score(models[1])"
   ]
  },
  {
   "cell_type": "markdown",
   "metadata": {},
   "source": [
    "#### NuSVC Model"
   ]
  },
  {
   "cell_type": "code",
   "execution_count": 9,
   "metadata": {},
   "outputs": [
    {
     "name": "stdout",
     "output_type": "stream",
     "text": [
      "Evaluation in 26.07 seconds\n",
      "NuSVC Best params: {'nusvc__kernel': 'linear', 'nusvc__nu': 0.5799999999999997}\n",
      "NuSVC Best score: 0.5157706093189964\n",
      "              precision    recall  f1-score   support\n",
      "\n",
      "           0       0.61      0.93      0.74        15\n",
      "           1       0.67      0.44      0.53         9\n",
      "           2       0.60      0.40      0.48        15\n",
      "\n",
      "    accuracy                           0.62        39\n",
      "   macro avg       0.63      0.59      0.58        39\n",
      "weighted avg       0.62      0.62      0.59        39\n",
      "\n"
     ]
    },
    {
     "data": {
      "image/png": "[encoded data removed]",
      "text/plain": [
       "<Figure size 432x288 with 2 Axes>"
      ]
     },
     "metadata": {
      "needs_background": "light"
     },
     "output_type": "display_data"
    }
   ],
   "source": [
    "import warnings\n",
    "warnings.filterwarnings(\"ignore\")\n",
    "\n",
    "model_fit_score(models[2])"
   ]
  },
  {
   "cell_type": "markdown",
   "metadata": {},
   "source": [
    "#### Bayesian Model"
   ]
  },
  {
   "cell_type": "code",
   "execution_count": 10,
   "metadata": {},
   "outputs": [
    {
     "name": "stdout",
     "output_type": "stream",
     "text": [
      "Evaluation in 0.14 seconds\n",
      "Bayesian Best params: {'bayes__var_smoothing': 1e-06}\n",
      "Bayesian Best score: 0.4827956989247311\n",
      "              precision    recall  f1-score   support\n",
      "\n",
      "           0       0.56      0.93      0.70        15\n",
      "           1       0.67      0.22      0.33         9\n",
      "           2       0.73      0.53      0.62        15\n",
      "\n",
      "    accuracy                           0.62        39\n",
      "   macro avg       0.65      0.56      0.55        39\n",
      "weighted avg       0.65      0.62      0.58        39\n",
      "\n"
     ]
    },
    {
     "data": {
      "image/png": "[encoded data removed]",
      "text/plain": [
       "<Figure size 432x288 with 2 Axes>"
      ]
     },
     "metadata": {
      "needs_background": "light"
     },
     "output_type": "display_data"
    }
   ],
   "source": [
    "model_fit_score(models[3])"
   ]
  },
  {
   "cell_type": "markdown",
   "metadata": {},
   "source": [
    "#### Random Forest Model"
   ]
  },
  {
   "cell_type": "code",
   "execution_count": 11,
   "metadata": {},
   "outputs": [
    {
     "name": "stdout",
     "output_type": "stream",
     "text": [
      "Evaluation in 57.78 seconds\n",
      "RandomForest Best params: {'rf__criterion': 'entropy', 'rf__max_depth': 10, 'rf__n_estimators': 40}\n",
      "RandomForest Best score: 0.5602150537634408\n",
      "              precision    recall  f1-score   support\n",
      "\n",
      "           0       0.52      0.73      0.61        15\n",
      "           1       0.00      0.00      0.00         9\n",
      "           2       0.44      0.47      0.45        15\n",
      "\n",
      "    accuracy                           0.46        39\n",
      "   macro avg       0.32      0.40      0.35        39\n",
      "weighted avg       0.37      0.46      0.41        39\n",
      "\n"
     ]
    },
    {
     "data": {
      "image/png": "[encoded data removed]",
      "text/plain": [
       "<Figure size 432x288 with 2 Axes>"
      ]
     },
     "metadata": {
      "needs_background": "light"
     },
     "output_type": "display_data"
    }
   ],
   "source": [
    "model_fit_score(models[4])"
   ]
  }
 ],
 "metadata": {
  "kernelspec": {
   "display_name": "Python 3",
   "language": "python",
   "name": "python3"
  },
  "language_info": {
   "codemirror_mode": {
    "name": "ipython",
    "version": 3
   },
   "file_extension": ".py",
   "mimetype": "text/x-python",
   "name": "python",
   "nbconvert_exporter": "python",
   "pygments_lexer": "ipython3",
   "version": "3.8.2"
  }
 },
 "nbformat": 4,
 "nbformat_minor": 4
}

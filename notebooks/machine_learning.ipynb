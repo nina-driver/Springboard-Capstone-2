{
 "cells": [
  {
   "cell_type": "code",
   "execution_count": 1,
   "metadata": {},
   "outputs": [],
   "source": [
    "import pandas as pd\n",
    "import numpy as np\n",
    "import matplotlib.pyplot as plt \n",
    "import time\n",
    "from sklearn.metrics import classification_report, plot_confusion_matrix,accuracy_score\n",
    "from sklearn.model_selection import train_test_split, GridSearchCV,LeaveOneOut\n",
    "from sklearn.pipeline import Pipeline\n",
    "from sklearn.neighbors import KNeighborsClassifier\n",
    "from sklearn.svm import SVC, NuSVC\n",
    "from sklearn.naive_bayes import GaussianNB\n",
    "from sklearn.ensemble import RandomForestClassifier\n",
    "from imblearn.over_sampling import RandomOverSampler,SMOTE, ADASYN\n"
   ]
  },
  {
   "cell_type": "code",
   "execution_count": 2,
   "metadata": {},
   "outputs": [],
   "source": [
    "data = pd.read_csv(\"../data/processed/model_data.csv\")"
   ]
  },
  {
   "cell_type": "markdown",
   "metadata": {},
   "source": [
    "#### Split Data into Training and Test"
   ]
  },
  {
   "cell_type": "code",
   "execution_count": 3,
   "metadata": {},
   "outputs": [],
   "source": [
    "y = np.ravel(data[['status']].values)\n",
    "X = data.iloc[:,1:].values"
   ]
  },
  {
   "cell_type": "markdown",
   "metadata": {},
   "source": [
    "#### Modeling"
   ]
  },
  {
   "cell_type": "code",
   "execution_count": 4,
   "metadata": {},
   "outputs": [],
   "source": [
    "models = ['KNN', 'SVC', 'NuSVC', 'Bayesian', 'RandomForest']\n",
    "samples = ['random', 'smote', 'adasyn', 'observed']"
   ]
  },
  {
   "cell_type": "code",
   "execution_count": 5,
   "metadata": {},
   "outputs": [],
   "source": [
    "def model_fit_score(model, sample, cv):\n",
    "    if sample == 'random':\n",
    "        ros = RandomOverSampler(random_state=21)\n",
    "        X_res, y_res = ros.fit_resample(X, y)\n",
    "    elif sample == 'smote':\n",
    "        X_res, y_res = SMOTE().fit_resample(X, y)\n",
    "    elif sample == 'adasyn':\n",
    "        X_res, y_res = ADASYN().fit_resample(X, y)\n",
    "    elif sample == 'observed':\n",
    "        X_res = X\n",
    "        y_res = y\n",
    "\n",
    "    \n",
    "    X_train, X_test, y_train, y_test = train_test_split(X_res, y_res, \n",
    "                                                            test_size=0.3, \n",
    "                                                            random_state=21, \n",
    "                                                            stratify=y_res)\n",
    "    if model == 'KNN':\n",
    "        steps = [('knn', KNeighborsClassifier())]\n",
    "        parameters = {'knn__n_neighbors':np.arange(1,50), \n",
    "                      'knn__weights': ['uniform','distance'],\n",
    "                       'knn__algorithm':['auto','ball_tree','kd_tree','brute']}\n",
    "    elif model == 'SVC':\n",
    "        steps = [('svc', SVC())]\n",
    "        parameters = {'svc__C':np.logspace(-3, 2, 6), \n",
    "                      'svc__kernel':['linear','poly','rbf','sigmoid']}\n",
    "    elif model == 'NuSVC':\n",
    "        steps = [('nusvc', NuSVC())]\n",
    "        parameters = {'nusvc__nu':np.arange(0.1,1, .01),\n",
    "                      'nusvc__kernel':['linear','poly','rbf','sigmoid']}\n",
    "    elif model == 'Bayesian':\n",
    "        steps = [('bayes', GaussianNB())]\n",
    "        parameters = {'bayes__var_smoothing': np.logspace(-9,9,19)}\n",
    "    elif model == 'RandomForest':\n",
    "        steps = [('rf', RandomForestClassifier())]\n",
    "        parameters = {'rf__n_estimators': np.arange(10,100,10),\n",
    "                     'rf__criterion':['gini','entropy'],\n",
    "                     'rf__max_depth':np.arange(10,100,10)}\n",
    "        \n",
    "\n",
    "    pipeline = Pipeline(steps)\n",
    "    \n",
    "    cv = GridSearchCV(pipeline, param_grid=parameters, cv=cv)\n",
    "    \n",
    "    start_time = time.time()\n",
    "    \n",
    "    cv.fit(X_train, np.ravel(y_train))\n",
    "        \n",
    "    elapsed_time = time.time() - start_time\n",
    "    \n",
    "    print('Evaluation in {:.2f} seconds'.format(elapsed_time))\n",
    "    \n",
    "    print(str(model)+\" Best params:\", cv.best_params_)\n",
    "    print(str(model)+\" Best score:\", cv.best_score_)\n",
    "    \n",
    "    y_pred = cv.predict(X_test)\n",
    "    y_train_predict = cv.predict(X_train)\n",
    "    \n",
    "    print(\"Training Accuracy: {}\".format(round(accuracy_score(y_train, y_train_predict), 2)))\n",
    "    print(classification_report(y_test, y_pred, zero_division=0))\n",
    "    plot_confusion_matrix(cv, X_test, y_test)\n",
    "    plt.title(model + \" Confusion Matrix\")\n",
    "    plt.show()"
   ]
  },
  {
   "cell_type": "markdown",
   "metadata": {},
   "source": [
    "#### K-Nearest Neighbors | Original Data"
   ]
  },
  {
   "cell_type": "code",
   "execution_count": 6,
   "metadata": {},
   "outputs": [
    {
     "name": "stdout",
     "output_type": "stream",
     "text": [
      "Evaluation in 7.38 seconds\n",
      "KNN Best params: {'knn__algorithm': 'auto', 'knn__n_neighbors': 25, 'knn__weights': 'uniform'}\n",
      "KNN Best score: 0.5152046783625732\n",
      "Training Accuracy: 0.45\n",
      "              precision    recall  f1-score   support\n",
      "\n",
      "           0       0.50      0.60      0.55        15\n",
      "           1       0.00      0.00      0.00         9\n",
      "           2       0.38      0.53      0.44        15\n",
      "\n",
      "    accuracy                           0.44        39\n",
      "   macro avg       0.29      0.38      0.33        39\n",
      "weighted avg       0.34      0.44      0.38        39\n",
      "\n"
     ]
    },
    {
     "data": {
      "image/png": "[encoded data removed]",
      "text/plain": [
       "<Figure size 432x288 with 2 Axes>"
      ]
     },
     "metadata": {
      "needs_background": "light"
     },
     "output_type": "display_data"
    }
   ],
   "source": [
    "model_fit_score(models[0], samples[3], 5)"
   ]
  },
  {
   "cell_type": "markdown",
   "metadata": {},
   "source": [
    "#### KNN | Random Oversampling"
   ]
  },
  {
   "cell_type": "code",
   "execution_count": 7,
   "metadata": {},
   "outputs": [
    {
     "name": "stdout",
     "output_type": "stream",
     "text": [
      "Evaluation in 8.26 seconds\n",
      "KNN Best params: {'knn__algorithm': 'auto', 'knn__n_neighbors': 32, 'knn__weights': 'distance'}\n",
      "KNN Best score: 0.45714285714285713\n",
      "Training Accuracy: 1.0\n",
      "              precision    recall  f1-score   support\n",
      "\n",
      "           0       0.50      0.33      0.40        15\n",
      "           1       0.53      0.67      0.59        15\n",
      "           2       0.38      0.40      0.39        15\n",
      "\n",
      "    accuracy                           0.47        45\n",
      "   macro avg       0.47      0.47      0.46        45\n",
      "weighted avg       0.47      0.47      0.46        45\n",
      "\n"
     ]
    },
    {
     "data": {
      "image/png": "[encoded data removed]",
      "text/plain": [
       "<Figure size 432x288 with 2 Axes>"
      ]
     },
     "metadata": {
      "needs_background": "light"
     },
     "output_type": "display_data"
    }
   ],
   "source": [
    "model_fit_score(models[0], samples[0], 5)"
   ]
  },
  {
   "cell_type": "markdown",
   "metadata": {},
   "source": [
    "#### SVC | Original Data"
   ]
  },
  {
   "cell_type": "code",
   "execution_count": 8,
   "metadata": {},
   "outputs": [
    {
     "name": "stdout",
     "output_type": "stream",
     "text": [
      "Evaluation in 3.45 seconds\n",
      "SVC Best params: {'svc__C': 100.0, 'svc__kernel': 'linear'}\n",
      "SVC Best score: 0.49298245614035086\n",
      "Training Accuracy: 0.57\n",
      "              precision    recall  f1-score   support\n",
      "\n",
      "           0       0.64      0.93      0.76        15\n",
      "           1       0.57      0.44      0.50         9\n",
      "           2       0.60      0.40      0.48        15\n",
      "\n",
      "    accuracy                           0.62        39\n",
      "   macro avg       0.60      0.59      0.58        39\n",
      "weighted avg       0.61      0.62      0.59        39\n",
      "\n"
     ]
    },
    {
     "data": {
      "image/png": "[encoded data removed]",
      "text/plain": [
       "<Figure size 432x288 with 2 Axes>"
      ]
     },
     "metadata": {
      "needs_background": "light"
     },
     "output_type": "display_data"
    }
   ],
   "source": [
    "model_fit_score(models[1], samples[3], 5)"
   ]
  },
  {
   "cell_type": "markdown",
   "metadata": {},
   "source": [
    "#### SVC | Random Oversampling"
   ]
  },
  {
   "cell_type": "code",
   "execution_count": 9,
   "metadata": {},
   "outputs": [
    {
     "name": "stdout",
     "output_type": "stream",
     "text": [
      "Evaluation in 2.01 seconds\n",
      "SVC Best params: {'svc__C': 0.01, 'svc__kernel': 'linear'}\n",
      "SVC Best score: 0.42857142857142855\n",
      "Training Accuracy: 0.42\n",
      "              precision    recall  f1-score   support\n",
      "\n",
      "           0       0.33      0.27      0.30        15\n",
      "           1       0.31      0.67      0.43        15\n",
      "           2       0.00      0.00      0.00        15\n",
      "\n",
      "    accuracy                           0.31        45\n",
      "   macro avg       0.22      0.31      0.24        45\n",
      "weighted avg       0.22      0.31      0.24        45\n",
      "\n"
     ]
    },
    {
     "data": {
      "image/png": "[encoded data removed]",
      "text/plain": [
       "<Figure size 432x288 with 2 Axes>"
      ]
     },
     "metadata": {
      "needs_background": "light"
     },
     "output_type": "display_data"
    }
   ],
   "source": [
    "model_fit_score(models[1], samples[0], 3)"
   ]
  },
  {
   "cell_type": "markdown",
   "metadata": {},
   "source": [
    "#### NuSVC | Original Data"
   ]
  },
  {
   "cell_type": "code",
   "execution_count": 10,
   "metadata": {},
   "outputs": [
    {
     "name": "stdout",
     "output_type": "stream",
     "text": [
      "Evaluation in 25.44 seconds\n",
      "NuSVC Best params: {'nusvc__kernel': 'linear', 'nusvc__nu': 0.5799999999999997}\n",
      "NuSVC Best score: 0.5157706093189964\n",
      "Training Accuracy: 0.59\n",
      "              precision    recall  f1-score   support\n",
      "\n",
      "           0       0.61      0.93      0.74        15\n",
      "           1       0.67      0.44      0.53         9\n",
      "           2       0.60      0.40      0.48        15\n",
      "\n",
      "    accuracy                           0.62        39\n",
      "   macro avg       0.63      0.59      0.58        39\n",
      "weighted avg       0.62      0.62      0.59        39\n",
      "\n"
     ]
    },
    {
     "data": {
      "image/png": "[encoded data removed]",
      "text/plain": [
       "<Figure size 432x288 with 2 Axes>"
      ]
     },
     "metadata": {
      "needs_background": "light"
     },
     "output_type": "display_data"
    }
   ],
   "source": [
    "import warnings\n",
    "warnings.filterwarnings(\"ignore\")\n",
    "\n",
    "model_fit_score(models[2], samples[3], 3)"
   ]
  },
  {
   "cell_type": "markdown",
   "metadata": {},
   "source": [
    "#### NuSVC | Random Oversampling"
   ]
  },
  {
   "cell_type": "code",
   "execution_count": 11,
   "metadata": {},
   "outputs": [
    {
     "name": "stdout",
     "output_type": "stream",
     "text": [
      "Evaluation in 27.89 seconds\n",
      "NuSVC Best params: {'nusvc__kernel': 'rbf', 'nusvc__nu': 0.6399999999999997}\n",
      "NuSVC Best score: 0.5142857142857142\n",
      "Training Accuracy: 0.5\n",
      "              precision    recall  f1-score   support\n",
      "\n",
      "           0       0.60      0.20      0.30        15\n",
      "           1       0.38      0.33      0.36        15\n",
      "           2       0.33      0.60      0.43        15\n",
      "\n",
      "    accuracy                           0.38        45\n",
      "   macro avg       0.44      0.38      0.36        45\n",
      "weighted avg       0.44      0.38      0.36        45\n",
      "\n"
     ]
    },
    {
     "data": {
      "image/png": "[encoded data removed]",
      "text/plain": [
       "<Figure size 432x288 with 2 Axes>"
      ]
     },
     "metadata": {
      "needs_background": "light"
     },
     "output_type": "display_data"
    }
   ],
   "source": [
    "import warnings\n",
    "warnings.filterwarnings(\"ignore\")\n",
    "\n",
    "model_fit_score(models[2], samples[0], 3)"
   ]
  },
  {
   "cell_type": "markdown",
   "metadata": {},
   "source": [
    "#### Bayesian | Orignial Data"
   ]
  },
  {
   "cell_type": "code",
   "execution_count": 12,
   "metadata": {},
   "outputs": [
    {
     "name": "stdout",
     "output_type": "stream",
     "text": [
      "Evaluation in 0.20 seconds\n",
      "Bayesian Best params: {'bayes__var_smoothing': 1e-06}\n",
      "Bayesian Best score: 0.4827956989247311\n",
      "Training Accuracy: 0.56\n",
      "              precision    recall  f1-score   support\n",
      "\n",
      "           0       0.56      0.93      0.70        15\n",
      "           1       0.67      0.22      0.33         9\n",
      "           2       0.73      0.53      0.62        15\n",
      "\n",
      "    accuracy                           0.62        39\n",
      "   macro avg       0.65      0.56      0.55        39\n",
      "weighted avg       0.65      0.62      0.58        39\n",
      "\n"
     ]
    },
    {
     "data": {
      "image/png": "[encoded data removed]",
      "text/plain": [
       "<Figure size 432x288 with 2 Axes>"
      ]
     },
     "metadata": {
      "needs_background": "light"
     },
     "output_type": "display_data"
    }
   ],
   "source": [
    "model_fit_score(models[3], samples[3], 3)"
   ]
  },
  {
   "cell_type": "markdown",
   "metadata": {},
   "source": [
    "#### Bayesian | Random Oversampling"
   ]
  },
  {
   "cell_type": "code",
   "execution_count": 13,
   "metadata": {},
   "outputs": [
    {
     "name": "stdout",
     "output_type": "stream",
     "text": [
      "Evaluation in 0.11 seconds\n",
      "Bayesian Best params: {'bayes__var_smoothing': 1e-05}\n",
      "Bayesian Best score: 0.4476190476190476\n",
      "Training Accuracy: 0.5\n",
      "              precision    recall  f1-score   support\n",
      "\n",
      "           0       0.59      0.87      0.70        15\n",
      "           1       0.50      0.40      0.44        15\n",
      "           2       0.45      0.33      0.38        15\n",
      "\n",
      "    accuracy                           0.53        45\n",
      "   macro avg       0.52      0.53      0.51        45\n",
      "weighted avg       0.52      0.53      0.51        45\n",
      "\n"
     ]
    },
    {
     "data": {
      "image/png": "[encoded data removed]",
      "text/plain": [
       "<Figure size 432x288 with 2 Axes>"
      ]
     },
     "metadata": {
      "needs_background": "light"
     },
     "output_type": "display_data"
    }
   ],
   "source": [
    "model_fit_score(models[3], samples[0], 3)"
   ]
  },
  {
   "cell_type": "markdown",
   "metadata": {},
   "source": [
    "#### Random Forest | Original Data"
   ]
  },
  {
   "cell_type": "code",
   "execution_count": 14,
   "metadata": {},
   "outputs": [
    {
     "name": "stdout",
     "output_type": "stream",
     "text": [
      "Evaluation in 42.00 seconds\n",
      "RandomForest Best params: {'rf__criterion': 'gini', 'rf__max_depth': 20, 'rf__n_estimators': 30}\n",
      "RandomForest Best score: 0.5487455197132616\n",
      "Training Accuracy: 1.0\n",
      "              precision    recall  f1-score   support\n",
      "\n",
      "           0       0.52      0.73      0.61        15\n",
      "           1       0.25      0.11      0.15         9\n",
      "           2       0.50      0.47      0.48        15\n",
      "\n",
      "    accuracy                           0.49        39\n",
      "   macro avg       0.42      0.44      0.42        39\n",
      "weighted avg       0.45      0.49      0.46        39\n",
      "\n"
     ]
    },
    {
     "data": {
      "image/png": "[encoded data removed]",
      "text/plain": [
       "<Figure size 432x288 with 2 Axes>"
      ]
     },
     "metadata": {
      "needs_background": "light"
     },
     "output_type": "display_data"
    }
   ],
   "source": [
    "model_fit_score(models[4], samples[3], 3)"
   ]
  },
  {
   "cell_type": "markdown",
   "metadata": {},
   "source": [
    "#### RandomForest | Random Oversampling"
   ]
  },
  {
   "cell_type": "code",
   "execution_count": 15,
   "metadata": {},
   "outputs": [
    {
     "name": "stdout",
     "output_type": "stream",
     "text": [
      "Evaluation in 42.69 seconds\n",
      "RandomForest Best params: {'rf__criterion': 'gini', 'rf__max_depth': 70, 'rf__n_estimators': 70}\n",
      "RandomForest Best score: 0.6\n",
      "Training Accuracy: 1.0\n",
      "              precision    recall  f1-score   support\n",
      "\n",
      "           0       0.64      0.93      0.76        15\n",
      "           1       0.79      0.73      0.76        15\n",
      "           2       0.67      0.40      0.50        15\n",
      "\n",
      "    accuracy                           0.69        45\n",
      "   macro avg       0.70      0.69      0.67        45\n",
      "weighted avg       0.70      0.69      0.67        45\n",
      "\n"
     ]
    },
    {
     "data": {
      "image/png": "[encoded data removed]",
      "text/plain": [
       "<Figure size 432x288 with 2 Axes>"
      ]
     },
     "metadata": {
      "needs_background": "light"
     },
     "output_type": "display_data"
    }
   ],
   "source": [
    "model_fit_score(models[4], samples[0], 3)"
   ]
  },
  {
   "cell_type": "markdown",
   "metadata": {},
   "source": [
    "### Ensemble Learning | Random Oversampling"
   ]
  },
  {
   "cell_type": "markdown",
   "metadata": {},
   "source": [
    "#### Voting Classifier"
   ]
  },
  {
   "cell_type": "code",
   "execution_count": 16,
   "metadata": {},
   "outputs": [],
   "source": [
    "from sklearn.ensemble import VotingClassifier"
   ]
  },
  {
   "cell_type": "code",
   "execution_count": 17,
   "metadata": {},
   "outputs": [],
   "source": [
    "estimators = []\n",
    "\n",
    "model1 = KNeighborsClassifier(algorithm='auto', n_neighbors=31, weights='distance')\n",
    "estimators.append(('knn',model1))\n",
    "model2 = SVC(C=100, kernel='linear')\n",
    "estimators.append(('svc',model2))\n",
    "model3 = NuSVC(kernel='rbf', nu=0.6799999999999997)\n",
    "estimators.append(('nusvc',model3))\n",
    "model4 = GaussianNB(var_smoothing=1e-08)\n",
    "estimators.append(('bayes',model4))\n",
    "model5 = RandomForestClassifier(criterion='entropy', max_depth=60, n_estimators=90)\n",
    "estimators.append(('rf',model5))\n",
    "\n",
    "ensemble = VotingClassifier(estimators)"
   ]
  },
  {
   "cell_type": "code",
   "execution_count": 18,
   "metadata": {},
   "outputs": [],
   "source": [
    "ros = RandomOverSampler(random_state=21)\n",
    "X_res, y_res = ros.fit_resample(X, y)\n",
    "X_train, X_test, y_train, y_test = train_test_split(X_res, y_res, test_size=0.3,random_state=21,stratify=y_res)"
   ]
  },
  {
   "cell_type": "code",
   "execution_count": 19,
   "metadata": {},
   "outputs": [],
   "source": [
    "start_time = time.time()\n",
    "ensemble.fit(X_train,y_train)\n",
    "elapsed_time = time.time() - start_time"
   ]
  },
  {
   "cell_type": "code",
   "execution_count": 20,
   "metadata": {},
   "outputs": [],
   "source": [
    "y_pred = ensemble.predict(X_test)\n",
    "y_train_predict = ensemble.predict(X_train)"
   ]
  },
  {
   "cell_type": "code",
   "execution_count": 21,
   "metadata": {},
   "outputs": [
    {
     "name": "stdout",
     "output_type": "stream",
     "text": [
      "Evaluation in 0.62 seconds\n",
      "Training Accuracy: 0.81\n",
      "              precision    recall  f1-score   support\n",
      "\n",
      "           0       0.64      0.93      0.76        15\n",
      "           1       0.79      0.73      0.76        15\n",
      "           2       0.78      0.47      0.58        15\n",
      "\n",
      "    accuracy                           0.71        45\n",
      "   macro avg       0.73      0.71      0.70        45\n",
      "weighted avg       0.73      0.71      0.70        45\n",
      "\n"
     ]
    },
    {
     "data": {
      "image/png": "[encoded data removed]",
      "text/plain": [
       "<Figure size 432x288 with 2 Axes>"
      ]
     },
     "metadata": {
      "needs_background": "light"
     },
     "output_type": "display_data"
    }
   ],
   "source": [
    "print('Evaluation in {:.2f} seconds'.format(elapsed_time))\n",
    "print(\"Training Accuracy: {}\".format(round(accuracy_score(y_train, y_train_predict),2)))\n",
    "print(classification_report(y_test, y_pred, zero_division=0))\n",
    "plot_confusion_matrix(ensemble, X_test, y_test)\n",
    "plt.title(\"Confusion Matrix\")\n",
    "plt.show()"
   ]
  },
  {
   "cell_type": "markdown",
   "metadata": {},
   "source": [
    "#### Bagging"
   ]
  },
  {
   "cell_type": "code",
   "execution_count": 22,
   "metadata": {},
   "outputs": [],
   "source": [
    "from sklearn.ensemble import BaggingClassifier"
   ]
  },
  {
   "cell_type": "code",
   "execution_count": 23,
   "metadata": {},
   "outputs": [],
   "source": [
    "start_time = time.time()\n",
    "clf = BaggingClassifier(base_estimator=SVC(C=100, kernel='linear'),n_estimators=100,random_state=21)\n",
    "clfcv = GridSearchCV(clf, param_grid={},cv=5)\n",
    "clfcv.fit(X_train, y_train)\n",
    "elapsed_time = time.time() - start_time"
   ]
  },
  {
   "cell_type": "code",
   "execution_count": 24,
   "metadata": {},
   "outputs": [],
   "source": [
    "y_pred = clfcv.predict(X_test)\n",
    "y_train_predict = clfcv.predict(X_train)"
   ]
  },
  {
   "cell_type": "code",
   "execution_count": 25,
   "metadata": {},
   "outputs": [
    {
     "name": "stdout",
     "output_type": "stream",
     "text": [
      "Evaluation in 219.11 seconds\n",
      "Training Accuracy: 0.59\n",
      "              precision    recall  f1-score   support\n",
      "\n",
      "           0       0.61      0.93      0.74        15\n",
      "           1       0.54      0.47      0.50        15\n",
      "           2       0.56      0.33      0.42        15\n",
      "\n",
      "    accuracy                           0.58        45\n",
      "   macro avg       0.57      0.58      0.55        45\n",
      "weighted avg       0.57      0.58      0.55        45\n",
      "\n"
     ]
    },
    {
     "data": {
      "image/png": "[encoded data removed]",
      "text/plain": [
       "<Figure size 432x288 with 2 Axes>"
      ]
     },
     "metadata": {
      "needs_background": "light"
     },
     "output_type": "display_data"
    }
   ],
   "source": [
    "print('Evaluation in {:.2f} seconds'.format(elapsed_time))\n",
    "print(\"Training Accuracy: {}\".format(round(accuracy_score(y_train, y_train_predict),2)))\n",
    "print(classification_report(y_test, y_pred, zero_division=0))\n",
    "plot_confusion_matrix(clfcv, X_test, y_test)\n",
    "plt.title(\"Confusion Matrix\")\n",
    "plt.show()"
   ]
  }
 ],
 "metadata": {
  "kernelspec": {
   "display_name": "Python 3",
   "language": "python",
   "name": "python3"
  },
  "language_info": {
   "codemirror_mode": {
    "name": "ipython",
    "version": 3
   },
   "file_extension": ".py",
   "mimetype": "text/x-python",
   "name": "python",
   "nbconvert_exporter": "python",
   "pygments_lexer": "ipython3",
   "version": "3.8.2"
  }
 },
 "nbformat": 4,
 "nbformat_minor": 4
}

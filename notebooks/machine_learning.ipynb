{
 "cells": [
  {
   "cell_type": "code",
   "execution_count": 17,
   "metadata": {},
   "outputs": [],
   "source": [
    "import pandas as pd\n",
    "import numpy as np\n",
    "import matplotlib.pyplot as plt \n",
    "import time\n",
    "from sklearn.metrics import classification_report, plot_confusion_matrix,accuracy_score\n",
    "from sklearn.model_selection import train_test_split, GridSearchCV\n",
    "from sklearn.pipeline import Pipeline\n",
    "from sklearn.neighbors import KNeighborsClassifier\n",
    "from sklearn.svm import SVC, NuSVC\n",
    "from sklearn.naive_bayes import GaussianNB\n",
    "from sklearn.ensemble import RandomForestClassifier\n",
    "from imblearn.over_sampling import RandomOverSampler,SMOTE, ADASYN"
   ]
  },
  {
   "cell_type": "code",
   "execution_count": 3,
   "metadata": {},
   "outputs": [],
   "source": [
    "data = pd.read_csv(\"../data/processed/model_data.csv\")"
   ]
  },
  {
   "cell_type": "markdown",
   "metadata": {},
   "source": [
    "#### Split Data into Training and Test"
   ]
  },
  {
   "cell_type": "code",
   "execution_count": 4,
   "metadata": {},
   "outputs": [],
   "source": [
    "y = np.ravel(data[['status']].values)\n",
    "X = data.iloc[:,1:].values"
   ]
  },
  {
   "cell_type": "markdown",
   "metadata": {},
   "source": [
    "#### Modeling"
   ]
  },
  {
   "cell_type": "code",
   "execution_count": 23,
   "metadata": {},
   "outputs": [],
   "source": [
    "models = ['KNN', 'SVC', 'NuSVC', 'Bayesian', 'RandomForest']\n",
    "samples = ['random', 'smote', 'adasyn', 'observed']"
   ]
  },
  {
   "cell_type": "code",
   "execution_count": 33,
   "metadata": {},
   "outputs": [],
   "source": [
    "def model_fit_score(model, sample, cv):\n",
    "    if sample == 'random':\n",
    "        ros = RandomOverSampler(random_state=42)\n",
    "        X_res, y_res = ros.fit_resample(X, y)\n",
    "    elif sample == 'smote':\n",
    "        X_res, y_res = SMOTE().fit_resample(X, y)\n",
    "    elif sample == 'adasyn':\n",
    "            X_res, y_res = ADASYN().fit_resample(X, y)\n",
    "    elif sample == 'observed':\n",
    "        X_res = X\n",
    "        y_res = y\n",
    "\n",
    "    \n",
    "    X_train, X_test, y_train, y_test = train_test_split(X_res, y_res, \n",
    "                                                            test_size=0.3, \n",
    "                                                            random_state=21, \n",
    "                                                            stratify=y_res)\n",
    "    if model == 'KNN':\n",
    "        steps = [('knn', KNeighborsClassifier())]\n",
    "        parameters = {'knn__n_neighbors':np.arange(1,50), \n",
    "                      'knn__weights': ['uniform','distance'],\n",
    "                       'knn__algorithm':['auto','ball_tree','kd_tree','brute']}\n",
    "    elif model == 'SVC':\n",
    "        steps = [('svc', SVC())]\n",
    "        parameters = {'svc__C':np.logspace(-3, 2, 6), \n",
    "                      'svc__kernel':['linear','poly','rbf','sigmoid']}\n",
    "    elif model == 'NuSVC':\n",
    "        steps = [('nusvc', NuSVC())]\n",
    "        parameters = {'nusvc__nu':np.arange(0.1,1, .01),\n",
    "                      'nusvc__kernel':['linear','poly','rbf','sigmoid']}\n",
    "    elif model == 'Bayesian':\n",
    "        steps = [('bayes', GaussianNB())]\n",
    "        parameters = {'bayes__var_smoothing': np.logspace(-9,9,19)}\n",
    "    elif model == 'RandomForest':\n",
    "        steps = [('rf', RandomForestClassifier())]\n",
    "        parameters = {'rf__n_estimators': np.arange(10,100,10),\n",
    "                     'rf__criterion':['gini','entropy'],\n",
    "                     'rf__max_depth':np.arange(10,100,10)}\n",
    "        \n",
    "\n",
    "    pipeline = Pipeline(steps)\n",
    "    \n",
    "    cv = GridSearchCV(pipeline, param_grid=parameters, cv=cv)\n",
    "    \n",
    "    start_time = time.time()\n",
    "    \n",
    "    cv.fit(X_train, np.ravel(y_train))\n",
    "        \n",
    "    elapsed_time = time.time() - start_time\n",
    "    \n",
    "    print('Evaluation in {:.2f} seconds'.format(elapsed_time))\n",
    "    \n",
    "    print(str(model)+\" Best params:\", cv.best_params_)\n",
    "    print(str(model)+\" Best score:\", cv.best_score_)\n",
    "    \n",
    "    y_pred = cv.predict(X_test)\n",
    "    y_train_predict = clfcv.predict(X_train)\n",
    "    \n",
    "    print(\"Training Accuracy: {}%\".format(accuracy_score(y_train, y_train_predict, normalize=False)))\n",
    "    print(classification_report(y_test, y_pred, zero_division=0))\n",
    "    plot_confusion_matrix(cv, X_test, y_test)\n",
    "    plt.title(model + \" Confusion Matrix\")\n",
    "    plt.show()"
   ]
  },
  {
   "cell_type": "markdown",
   "metadata": {},
   "source": [
    "#### K-Nearest Neighbors | Original Data"
   ]
  },
  {
   "cell_type": "code",
   "execution_count": 34,
   "metadata": {},
   "outputs": [
    {
     "name": "stdout",
     "output_type": "stream",
     "text": [
      "Evaluation in 4.82 seconds\n",
      "KNN Best params: {'knn__algorithm': 'auto', 'knn__n_neighbors': 25, 'knn__weights': 'uniform'}\n",
      "KNN Best score: 0.5152046783625732\n",
      "Training Accuracy: 54%\n",
      "              precision    recall  f1-score   support\n",
      "\n",
      "           0       0.50      0.60      0.55        15\n",
      "           1       0.00      0.00      0.00         9\n",
      "           2       0.38      0.53      0.44        15\n",
      "\n",
      "    accuracy                           0.44        39\n",
      "   macro avg       0.29      0.38      0.33        39\n",
      "weighted avg       0.34      0.44      0.38        39\n",
      "\n"
     ]
    },
    {
     "data": {
      "image/png": "[encoded data removed]",
      "text/plain": [
       "<Figure size 432x288 with 2 Axes>"
      ]
     },
     "metadata": {
      "needs_background": "light"
     },
     "output_type": "display_data"
    }
   ],
   "source": [
    "model_fit_score(models[0], samples[3], 5)"
   ]
  },
  {
   "cell_type": "markdown",
   "metadata": {},
   "source": [
    "#### KNN | Random Oversampling"
   ]
  },
  {
   "cell_type": "code",
   "execution_count": 36,
   "metadata": {},
   "outputs": [
    {
     "name": "stdout",
     "output_type": "stream",
     "text": [
      "Evaluation in 5.07 seconds\n",
      "KNN Best params: {'knn__algorithm': 'auto', 'knn__n_neighbors': 31, 'knn__weights': 'distance'}\n",
      "KNN Best score: 0.5047619047619047\n",
      "Training Accuracy: 59%\n",
      "              precision    recall  f1-score   support\n",
      "\n",
      "           0       0.33      0.33      0.33        15\n",
      "           1       0.54      0.47      0.50        15\n",
      "           2       0.47      0.53      0.50        15\n",
      "\n",
      "    accuracy                           0.44        45\n",
      "   macro avg       0.45      0.44      0.44        45\n",
      "weighted avg       0.45      0.44      0.44        45\n",
      "\n"
     ]
    },
    {
     "data": {
      "image/png": "[encoded data removed]",
      "text/plain": [
       "<Figure size 432x288 with 2 Axes>"
      ]
     },
     "metadata": {
      "needs_background": "light"
     },
     "output_type": "display_data"
    }
   ],
   "source": [
    "model_fit_score(models[0], samples[0], 5)"
   ]
  },
  {
   "cell_type": "markdown",
   "metadata": {},
   "source": [
    "#### SVC | Original Data"
   ]
  },
  {
   "cell_type": "code",
   "execution_count": 37,
   "metadata": {},
   "outputs": [
    {
     "name": "stdout",
     "output_type": "stream",
     "text": [
      "Evaluation in 2.85 seconds\n",
      "SVC Best params: {'svc__C': 100.0, 'svc__kernel': 'linear'}\n",
      "SVC Best score: 0.49298245614035086\n",
      "Training Accuracy: 54%\n",
      "              precision    recall  f1-score   support\n",
      "\n",
      "           0       0.64      0.93      0.76        15\n",
      "           1       0.57      0.44      0.50         9\n",
      "           2       0.60      0.40      0.48        15\n",
      "\n",
      "    accuracy                           0.62        39\n",
      "   macro avg       0.60      0.59      0.58        39\n",
      "weighted avg       0.61      0.62      0.59        39\n",
      "\n"
     ]
    },
    {
     "data": {
      "image/png": "[encoded data removed]",
      "text/plain": [
       "<Figure size 432x288 with 2 Axes>"
      ]
     },
     "metadata": {
      "needs_background": "light"
     },
     "output_type": "display_data"
    }
   ],
   "source": [
    "model_fit_score(models[1], samples[3], 5)"
   ]
  },
  {
   "cell_type": "markdown",
   "metadata": {},
   "source": [
    "#### SVC | Random Sampling"
   ]
  },
  {
   "cell_type": "code",
   "execution_count": 38,
   "metadata": {},
   "outputs": [
    {
     "name": "stdout",
     "output_type": "stream",
     "text": [
      "Evaluation in 3.39 seconds\n",
      "SVC Best params: {'svc__C': 100.0, 'svc__kernel': 'linear'}\n",
      "SVC Best score: 0.4095238095238095\n",
      "Training Accuracy: 59%\n",
      "              precision    recall  f1-score   support\n",
      "\n",
      "           0       0.64      0.93      0.76        15\n",
      "           1       0.75      0.60      0.67        15\n",
      "           2       0.73      0.53      0.62        15\n",
      "\n",
      "    accuracy                           0.69        45\n",
      "   macro avg       0.70      0.69      0.68        45\n",
      "weighted avg       0.70      0.69      0.68        45\n",
      "\n"
     ]
    },
    {
     "data": {
      "image/png": "[encoded data removed]",
      "text/plain": [
       "<Figure size 432x288 with 2 Axes>"
      ]
     },
     "metadata": {
      "needs_background": "light"
     },
     "output_type": "display_data"
    }
   ],
   "source": [
    "model_fit_score(models[1], samples[0], 5)"
   ]
  },
  {
   "cell_type": "markdown",
   "metadata": {},
   "source": [
    "#### NuSVC | Original Data"
   ]
  },
  {
   "cell_type": "code",
   "execution_count": 39,
   "metadata": {},
   "outputs": [
    {
     "name": "stdout",
     "output_type": "stream",
     "text": [
      "Evaluation in 23.95 seconds\n",
      "NuSVC Best params: {'nusvc__kernel': 'linear', 'nusvc__nu': 0.5799999999999997}\n",
      "NuSVC Best score: 0.5157706093189964\n",
      "Training Accuracy: 54%\n",
      "              precision    recall  f1-score   support\n",
      "\n",
      "           0       0.61      0.93      0.74        15\n",
      "           1       0.67      0.44      0.53         9\n",
      "           2       0.60      0.40      0.48        15\n",
      "\n",
      "    accuracy                           0.62        39\n",
      "   macro avg       0.63      0.59      0.58        39\n",
      "weighted avg       0.62      0.62      0.59        39\n",
      "\n"
     ]
    },
    {
     "data": {
      "image/png": "[encoded data removed]",
      "text/plain": [
       "<Figure size 432x288 with 2 Axes>"
      ]
     },
     "metadata": {
      "needs_background": "light"
     },
     "output_type": "display_data"
    }
   ],
   "source": [
    "import warnings\n",
    "warnings.filterwarnings(\"ignore\")\n",
    "\n",
    "model_fit_score(models[2], samples[3], 3)"
   ]
  },
  {
   "cell_type": "markdown",
   "metadata": {},
   "source": [
    "#### NuSVC | Random Oversampling"
   ]
  },
  {
   "cell_type": "code",
   "execution_count": 40,
   "metadata": {},
   "outputs": [
    {
     "name": "stdout",
     "output_type": "stream",
     "text": [
      "Evaluation in 29.34 seconds\n",
      "NuSVC Best params: {'nusvc__kernel': 'rbf', 'nusvc__nu': 0.6799999999999997}\n",
      "NuSVC Best score: 0.5047619047619047\n",
      "Training Accuracy: 59%\n",
      "              precision    recall  f1-score   support\n",
      "\n",
      "           0       0.25      0.13      0.17        15\n",
      "           1       0.42      0.53      0.47        15\n",
      "           2       0.33      0.40      0.36        15\n",
      "\n",
      "    accuracy                           0.36        45\n",
      "   macro avg       0.33      0.36      0.34        45\n",
      "weighted avg       0.33      0.36      0.34        45\n",
      "\n"
     ]
    },
    {
     "data": {
      "image/png": "[encoded data removed]",
      "text/plain": [
       "<Figure size 432x288 with 2 Axes>"
      ]
     },
     "metadata": {
      "needs_background": "light"
     },
     "output_type": "display_data"
    }
   ],
   "source": [
    "import warnings\n",
    "warnings.filterwarnings(\"ignore\")\n",
    "\n",
    "model_fit_score(models[2], samples[0], 3)"
   ]
  },
  {
   "cell_type": "markdown",
   "metadata": {},
   "source": [
    "#### Bayesian | Orignial Data"
   ]
  },
  {
   "cell_type": "code",
   "execution_count": 41,
   "metadata": {},
   "outputs": [
    {
     "name": "stdout",
     "output_type": "stream",
     "text": [
      "Evaluation in 0.11 seconds\n",
      "Bayesian Best params: {'bayes__var_smoothing': 1e-06}\n",
      "Bayesian Best score: 0.4827956989247311\n",
      "Training Accuracy: 54%\n",
      "              precision    recall  f1-score   support\n",
      "\n",
      "           0       0.56      0.93      0.70        15\n",
      "           1       0.67      0.22      0.33         9\n",
      "           2       0.73      0.53      0.62        15\n",
      "\n",
      "    accuracy                           0.62        39\n",
      "   macro avg       0.65      0.56      0.55        39\n",
      "weighted avg       0.65      0.62      0.58        39\n",
      "\n"
     ]
    },
    {
     "data": {
      "image/png": "[encoded data removed]",
      "text/plain": [
       "<Figure size 432x288 with 2 Axes>"
      ]
     },
     "metadata": {
      "needs_background": "light"
     },
     "output_type": "display_data"
    }
   ],
   "source": [
    "model_fit_score(models[3], samples[3], 3)"
   ]
  },
  {
   "cell_type": "markdown",
   "metadata": {},
   "source": [
    "#### Bayesian | Random Oversampling"
   ]
  },
  {
   "cell_type": "code",
   "execution_count": 47,
   "metadata": {},
   "outputs": [
    {
     "name": "stdout",
     "output_type": "stream",
     "text": [
      "Evaluation in 0.11 seconds\n",
      "Bayesian Best params: {'bayes__var_smoothing': 1e-08}\n",
      "Bayesian Best score: 0.4666666666666666\n",
      "Training Accuracy: 59%\n",
      "              precision    recall  f1-score   support\n",
      "\n",
      "           0       0.54      0.87      0.67        15\n",
      "           1       0.50      0.33      0.40        15\n",
      "           2       0.55      0.40      0.46        15\n",
      "\n",
      "    accuracy                           0.53        45\n",
      "   macro avg       0.53      0.53      0.51        45\n",
      "weighted avg       0.53      0.53      0.51        45\n",
      "\n"
     ]
    },
    {
     "data": {
      "image/png": "[encoded data removed]",
      "text/plain": [
       "<Figure size 432x288 with 2 Axes>"
      ]
     },
     "metadata": {
      "needs_background": "light"
     },
     "output_type": "display_data"
    }
   ],
   "source": [
    "model_fit_score(models[3], samples[0], 3)"
   ]
  },
  {
   "cell_type": "markdown",
   "metadata": {},
   "source": [
    "#### Random Forest | Original Data"
   ]
  },
  {
   "cell_type": "code",
   "execution_count": 48,
   "metadata": {},
   "outputs": [
    {
     "name": "stdout",
     "output_type": "stream",
     "text": [
      "Evaluation in 37.41 seconds\n",
      "RandomForest Best params: {'rf__criterion': 'entropy', 'rf__max_depth': 80, 'rf__n_estimators': 30}\n",
      "RandomForest Best score: 0.5602150537634408\n",
      "Training Accuracy: 54%\n",
      "              precision    recall  f1-score   support\n",
      "\n",
      "           0       0.60      0.80      0.69        15\n",
      "           1       0.25      0.11      0.15         9\n",
      "           2       0.40      0.40      0.40        15\n",
      "\n",
      "    accuracy                           0.49        39\n",
      "   macro avg       0.42      0.44      0.41        39\n",
      "weighted avg       0.44      0.49      0.45        39\n",
      "\n"
     ]
    },
    {
     "data": {
      "image/png": "[encoded data removed]",
      "text/plain": [
       "<Figure size 432x288 with 2 Axes>"
      ]
     },
     "metadata": {
      "needs_background": "light"
     },
     "output_type": "display_data"
    }
   ],
   "source": [
    "model_fit_score(models[4], samples[3], 3)"
   ]
  },
  {
   "cell_type": "markdown",
   "metadata": {},
   "source": [
    "#### RandomForest | Random Oversampling"
   ]
  },
  {
   "cell_type": "code",
   "execution_count": 49,
   "metadata": {},
   "outputs": [
    {
     "name": "stdout",
     "output_type": "stream",
     "text": [
      "Evaluation in 47.32 seconds\n",
      "RandomForest Best params: {'rf__criterion': 'gini', 'rf__max_depth': 60, 'rf__n_estimators': 30}\n",
      "RandomForest Best score: 0.6190476190476191\n",
      "Training Accuracy: 59%\n",
      "              precision    recall  f1-score   support\n",
      "\n",
      "           0       0.56      0.60      0.58        15\n",
      "           1       0.53      0.53      0.53        15\n",
      "           2       0.36      0.33      0.34        15\n",
      "\n",
      "    accuracy                           0.49        45\n",
      "   macro avg       0.48      0.49      0.49        45\n",
      "weighted avg       0.48      0.49      0.49        45\n",
      "\n"
     ]
    },
    {
     "data": {
      "image/png": "[encoded data removed]",
      "text/plain": [
       "<Figure size 432x288 with 2 Axes>"
      ]
     },
     "metadata": {
      "needs_background": "light"
     },
     "output_type": "display_data"
    }
   ],
   "source": [
    "model_fit_score(models[4], samples[0], 3)"
   ]
  },
  {
   "cell_type": "markdown",
   "metadata": {},
   "source": [
    "### Ensemble Learning"
   ]
  },
  {
   "cell_type": "markdown",
   "metadata": {},
   "source": [
    "#### Voting Classifier"
   ]
  },
  {
   "cell_type": "code",
   "execution_count": 51,
   "metadata": {},
   "outputs": [],
   "source": [
    "from sklearn.ensemble import VotingClassifier"
   ]
  },
  {
   "cell_type": "code",
   "execution_count": 52,
   "metadata": {},
   "outputs": [],
   "source": [
    "estimators = []\n",
    "\n",
    "knn = KNeighborsClassifier(algorithm='auto', n_neighbors=31, weights='distance')\n",
    "model1 = GridSearchCV(knn, param_grid={},cv=5)\n",
    "estimators.append(('knn',model1))\n",
    "svc = SVC(C=100, kernel='linear')\n",
    "model2 = GridSearchCV(svc, param_grid={},cv=5)\n",
    "estimators.append(('svc',model2))\n",
    "nusvc = NuSVC(kernel='rbf', nu=0.6799999999999997)\n",
    "model3 = GridSearchCV(nusvc, param_grid={},cv=3)\n",
    "estimators.append(('nusvc',model3))\n",
    "bayes = GaussianNB(var_smoothing=1e-08)\n",
    "model4 = GridSearchCV(bayes, param_grid={},cv=5)\n",
    "estimators.append(('bayes',model4))\n",
    "rf = RandomForestClassifier(criterion='entropy', max_depth=60, n_estimators=90)\n",
    "model5 = GridSearchCV(bayes, param_grid={},cv=3)\n",
    "estimators.append(('rf',model5))\n",
    "\n",
    "ensemble = VotingClassifier(estimators)\n",
    "\n",
    "ensemblecv = GridSearchCV(ensemble, param_grid={}, cv=5)"
   ]
  },
  {
   "cell_type": "code",
   "execution_count": 53,
   "metadata": {},
   "outputs": [],
   "source": [
    "ros = RandomOverSampler(random_state=42)\n",
    "X_res, y_res = ros.fit_resample(X, y)\n",
    "X_train, X_test, y_train, y_test = train_test_split(X_res, y_res, test_size=0.3,random_state=21,stratify=y_res)"
   ]
  },
  {
   "cell_type": "code",
   "execution_count": 54,
   "metadata": {},
   "outputs": [
    {
     "data": {
      "text/plain": [
       "GridSearchCV(cv=5, error_score=nan,\n",
       "             estimator=VotingClassifier(estimators=[('knn',\n",
       "                                                     GridSearchCV(cv=5,\n",
       "                                                                  error_score=nan,\n",
       "                                                                  estimator=KNeighborsClassifier(algorithm='auto',\n",
       "                                                                                                 leaf_size=30,\n",
       "                                                                                                 metric='minkowski',\n",
       "                                                                                                 metric_params=None,\n",
       "                                                                                                 n_jobs=None,\n",
       "                                                                                                 n_neighbors=31,\n",
       "                                                                                                 p=2,\n",
       "                                                                                                 weights='distance'),\n",
       "                                                                  iid='deprecated',\n",
       "                                                                  n_jobs=None,\n",
       "                                                                  param_grid={},\n",
       "                                                                  pre_dispatch='2*n_jobs',\n",
       "                                                                  refit=True,\n",
       "                                                                  return_t...\n",
       "                                                                  estimator=GaussianNB(priors=None,\n",
       "                                                                                       var_smoothing=1e-08),\n",
       "                                                                  iid='deprecated',\n",
       "                                                                  n_jobs=None,\n",
       "                                                                  param_grid={},\n",
       "                                                                  pre_dispatch='2*n_jobs',\n",
       "                                                                  refit=True,\n",
       "                                                                  return_train_score=False,\n",
       "                                                                  scoring=None,\n",
       "                                                                  verbose=0))],\n",
       "                                        flatten_transform=True, n_jobs=None,\n",
       "                                        voting='hard', weights=None),\n",
       "             iid='deprecated', n_jobs=None, param_grid={},\n",
       "             pre_dispatch='2*n_jobs', refit=True, return_train_score=False,\n",
       "             scoring=None, verbose=0)"
      ]
     },
     "execution_count": 54,
     "metadata": {},
     "output_type": "execute_result"
    }
   ],
   "source": [
    "ensemblecv.fit(X_train,y_train)"
   ]
  },
  {
   "cell_type": "code",
   "execution_count": 55,
   "metadata": {},
   "outputs": [],
   "source": [
    "y_pred = ensemblecv.predict(X_test)\n",
    "y_train_predict = clfcv.predict(X_train)"
   ]
  },
  {
   "cell_type": "code",
   "execution_count": 56,
   "metadata": {},
   "outputs": [
    {
     "name": "stdout",
     "output_type": "stream",
     "text": [
      "Training Accuracy: 59%\n",
      "              precision    recall  f1-score   support\n",
      "\n",
      "           0       0.57      0.87      0.68        15\n",
      "           1       0.69      0.60      0.64        15\n",
      "           2       0.78      0.47      0.58        15\n",
      "\n",
      "    accuracy                           0.64        45\n",
      "   macro avg       0.68      0.64      0.64        45\n",
      "weighted avg       0.68      0.64      0.64        45\n",
      "\n"
     ]
    },
    {
     "data": {
      "image/png": "[encoded data removed]",
      "text/plain": [
       "<Figure size 432x288 with 2 Axes>"
      ]
     },
     "metadata": {
      "needs_background": "light"
     },
     "output_type": "display_data"
    }
   ],
   "source": [
    "print(\"Training Accuracy: {}%\".format(accuracy_score(y_train, y_train_predict, normalize=False)))\n",
    "print(classification_report(y_test, y_pred, zero_division=0))\n",
    "plot_confusion_matrix(ensemblecv, X_test, y_test)\n",
    "plt.title(\"Confusion Matrix\")\n",
    "plt.show()"
   ]
  },
  {
   "cell_type": "markdown",
   "metadata": {},
   "source": [
    "#### Bagging"
   ]
  },
  {
   "cell_type": "code",
   "execution_count": 6,
   "metadata": {},
   "outputs": [],
   "source": [
    "from sklearn.ensemble import BaggingClassifier"
   ]
  },
  {
   "cell_type": "code",
   "execution_count": 7,
   "metadata": {},
   "outputs": [
    {
     "data": {
      "text/plain": [
       "GridSearchCV(cv=None, error_score=nan,\n",
       "             estimator=BaggingClassifier(base_estimator=SVC(C=100,\n",
       "                                                            break_ties=False,\n",
       "                                                            cache_size=200,\n",
       "                                                            class_weight=None,\n",
       "                                                            coef0=0.0,\n",
       "                                                            decision_function_shape='ovr',\n",
       "                                                            degree=3,\n",
       "                                                            gamma='scale',\n",
       "                                                            kernel='linear',\n",
       "                                                            max_iter=-1,\n",
       "                                                            probability=False,\n",
       "                                                            random_state=None,\n",
       "                                                            shrinking=True,\n",
       "                                                            tol=0.001,\n",
       "                                                            verbose=False),\n",
       "                                         bootstrap=True,\n",
       "                                         bootstrap_features=False,\n",
       "                                         max_features=1.0, max_samples=1.0,\n",
       "                                         n_estimators=100, n_jobs=None,\n",
       "                                         oob_score=False, random_state=21,\n",
       "                                         verbose=0, warm_start=False),\n",
       "             iid='deprecated', n_jobs=None, param_grid={},\n",
       "             pre_dispatch='2*n_jobs', refit=True, return_train_score=False,\n",
       "             scoring=None, verbose=0)"
      ]
     },
     "execution_count": 7,
     "metadata": {},
     "output_type": "execute_result"
    }
   ],
   "source": [
    "clf = BaggingClassifier(base_estimator=SVC(C=100, kernel='linear'),n_estimators=100,random_state=21)\n",
    "clfcv = GridSearchCV(clf, param_grid={})\n",
    "clfcv.fit(X_train, y_train)"
   ]
  },
  {
   "cell_type": "code",
   "execution_count": 19,
   "metadata": {},
   "outputs": [],
   "source": [
    "y_pred = clfcv.predict(X_test)\n",
    "y_train_predict = clfcv.predict(X_train)"
   ]
  },
  {
   "cell_type": "code",
   "execution_count": 50,
   "metadata": {},
   "outputs": [
    {
     "name": "stdout",
     "output_type": "stream",
     "text": [
      "Training Accuracy: 59%\n",
      "              precision    recall  f1-score   support\n",
      "\n",
      "           0       0.64      0.93      0.76        15\n",
      "           1       0.73      0.73      0.73        15\n",
      "           2       0.88      0.47      0.61        15\n",
      "\n",
      "    accuracy                           0.71        45\n",
      "   macro avg       0.75      0.71      0.70        45\n",
      "weighted avg       0.75      0.71      0.70        45\n",
      "\n"
     ]
    },
    {
     "data": {
      "image/png": "[encoded data removed]",
      "text/plain": [
       "<Figure size 432x288 with 2 Axes>"
      ]
     },
     "metadata": {
      "needs_background": "light"
     },
     "output_type": "display_data"
    }
   ],
   "source": [
    "print(\"Training Accuracy: {}%\".format(accuracy_score(y_train, y_train_predict, normalize=False)))\n",
    "print(classification_report(y_test, y_pred, zero_division=0))\n",
    "plot_confusion_matrix(clfcv, X_test, y_test)\n",
    "plt.title(\"Confusion Matrix\")\n",
    "plt.show()"
   ]
  },
  {
   "cell_type": "code",
   "execution_count": null,
   "metadata": {},
   "outputs": [],
   "source": []
  }
 ],
 "metadata": {
  "kernelspec": {
   "display_name": "Python 3",
   "language": "python",
   "name": "python3"
  },
  "language_info": {
   "codemirror_mode": {
    "name": "ipython",
    "version": 3
   },
   "file_extension": ".py",
   "mimetype": "text/x-python",
   "name": "python",
   "nbconvert_exporter": "python",
   "pygments_lexer": "ipython3",
   "version": "3.8.2"
  }
 },
 "nbformat": 4,
 "nbformat_minor": 4
}

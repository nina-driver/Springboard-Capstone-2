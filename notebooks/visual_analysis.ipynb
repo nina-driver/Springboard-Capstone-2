{
 "cells": [
  {
   "cell_type": "code",
   "execution_count": 1,
   "metadata": {},
   "outputs": [],
   "source": [
    "import pandas as pd\n",
    "import matplotlib.pyplot as plt\n",
    "import seaborn as sns\n",
    "import ipywidgets as widgets\n",
    "from IPython.display import display, clear_output"
   ]
  },
  {
   "cell_type": "code",
   "execution_count": 2,
   "metadata": {},
   "outputs": [],
   "source": [
    "data = pd.read_csv(\"../data/interim/analysis_set.csv\")"
   ]
  },
  {
   "cell_type": "code",
   "execution_count": 3,
   "metadata": {},
   "outputs": [
    {
     "data": {
      "text/html": [
       "<div>\n",
       "<style scoped>\n",
       "    .dataframe tbody tr th:only-of-type {\n",
       "        vertical-align: middle;\n",
       "    }\n",
       "\n",
       "    .dataframe tbody tr th {\n",
       "        vertical-align: top;\n",
       "    }\n",
       "\n",
       "    .dataframe thead th {\n",
       "        text-align: right;\n",
       "    }\n",
       "</style>\n",
       "<table border=\"1\" class=\"dataframe\">\n",
       "  <thead>\n",
       "    <tr style=\"text-align: right;\">\n",
       "      <th></th>\n",
       "      <th>status</th>\n",
       "      <th>age</th>\n",
       "      <th>age_range</th>\n",
       "      <th>gender</th>\n",
       "      <th>fam_hist</th>\n",
       "      <th>onset_age</th>\n",
       "      <th>duration</th>\n",
       "      <th>depress_med</th>\n",
       "      <th>benz_med</th>\n",
       "      <th>clonazepam</th>\n",
       "      <th>...</th>\n",
       "      <th>mono_ast</th>\n",
       "      <th>mono_dpi</th>\n",
       "      <th>mono_dvi</th>\n",
       "      <th>mono_gvi</th>\n",
       "      <th>mono_dus</th>\n",
       "      <th>mono_duf</th>\n",
       "      <th>mono_rlr</th>\n",
       "      <th>mono_pir</th>\n",
       "      <th>mono_rsr</th>\n",
       "      <th>mono_lre</th>\n",
       "    </tr>\n",
       "  </thead>\n",
       "  <tbody>\n",
       "    <tr>\n",
       "      <th>0</th>\n",
       "      <td>1</td>\n",
       "      <td>58</td>\n",
       "      <td>50-59</td>\n",
       "      <td>0</td>\n",
       "      <td>0</td>\n",
       "      <td>56.000000</td>\n",
       "      <td>2.000000</td>\n",
       "      <td>0</td>\n",
       "      <td>0</td>\n",
       "      <td>0.0</td>\n",
       "      <td>...</td>\n",
       "      <td>-2.821769</td>\n",
       "      <td>158.005040</td>\n",
       "      <td>317.678279</td>\n",
       "      <td>49.006920</td>\n",
       "      <td>22.375</td>\n",
       "      <td>0.588029</td>\n",
       "      <td>-19.771488</td>\n",
       "      <td>6.0</td>\n",
       "      <td>13.809770</td>\n",
       "      <td>127.25000</td>\n",
       "    </tr>\n",
       "    <tr>\n",
       "      <th>1</th>\n",
       "      <td>1</td>\n",
       "      <td>68</td>\n",
       "      <td>60-69</td>\n",
       "      <td>0</td>\n",
       "      <td>0</td>\n",
       "      <td>67.000000</td>\n",
       "      <td>1.000000</td>\n",
       "      <td>0</td>\n",
       "      <td>0</td>\n",
       "      <td>0.0</td>\n",
       "      <td>...</td>\n",
       "      <td>8.196296</td>\n",
       "      <td>295.429641</td>\n",
       "      <td>264.363532</td>\n",
       "      <td>40.564306</td>\n",
       "      <td>26.875</td>\n",
       "      <td>-0.824901</td>\n",
       "      <td>-23.256315</td>\n",
       "      <td>4.0</td>\n",
       "      <td>21.768707</td>\n",
       "      <td>312.60500</td>\n",
       "    </tr>\n",
       "    <tr>\n",
       "      <th>2</th>\n",
       "      <td>1</td>\n",
       "      <td>68</td>\n",
       "      <td>60-69</td>\n",
       "      <td>1</td>\n",
       "      <td>0</td>\n",
       "      <td>67.000000</td>\n",
       "      <td>1.000000</td>\n",
       "      <td>0</td>\n",
       "      <td>0</td>\n",
       "      <td>0.0</td>\n",
       "      <td>...</td>\n",
       "      <td>4.710260</td>\n",
       "      <td>280.065517</td>\n",
       "      <td>316.584135</td>\n",
       "      <td>48.973638</td>\n",
       "      <td>22.375</td>\n",
       "      <td>-0.954867</td>\n",
       "      <td>-13.292394</td>\n",
       "      <td>4.0</td>\n",
       "      <td>22.522523</td>\n",
       "      <td>200.97500</td>\n",
       "    </tr>\n",
       "    <tr>\n",
       "      <th>3</th>\n",
       "      <td>1</td>\n",
       "      <td>75</td>\n",
       "      <td>70-79</td>\n",
       "      <td>1</td>\n",
       "      <td>0</td>\n",
       "      <td>73.161644</td>\n",
       "      <td>1.838356</td>\n",
       "      <td>0</td>\n",
       "      <td>0</td>\n",
       "      <td>0.0</td>\n",
       "      <td>...</td>\n",
       "      <td>-9.094008</td>\n",
       "      <td>397.076923</td>\n",
       "      <td>799.548684</td>\n",
       "      <td>18.685239</td>\n",
       "      <td>49.375</td>\n",
       "      <td>0.790737</td>\n",
       "      <td>-25.076240</td>\n",
       "      <td>2.0</td>\n",
       "      <td>14.367816</td>\n",
       "      <td>151.10000</td>\n",
       "    </tr>\n",
       "    <tr>\n",
       "      <th>4</th>\n",
       "      <td>1</td>\n",
       "      <td>61</td>\n",
       "      <td>60-69</td>\n",
       "      <td>1</td>\n",
       "      <td>1</td>\n",
       "      <td>60.300000</td>\n",
       "      <td>0.700000</td>\n",
       "      <td>0</td>\n",
       "      <td>0</td>\n",
       "      <td>0.0</td>\n",
       "      <td>...</td>\n",
       "      <td>11.766684</td>\n",
       "      <td>205.690524</td>\n",
       "      <td>480.336538</td>\n",
       "      <td>33.542347</td>\n",
       "      <td>26.875</td>\n",
       "      <td>0.074792</td>\n",
       "      <td>-22.318787</td>\n",
       "      <td>5.0</td>\n",
       "      <td>14.611872</td>\n",
       "      <td>151.15625</td>\n",
       "    </tr>\n",
       "  </tbody>\n",
       "</table>\n",
       "<p>5 rows × 63 columns</p>\n",
       "</div>"
      ],
      "text/plain": [
       "   status  age age_range  gender  fam_hist  onset_age  duration  depress_med  \\\n",
       "0       1   58     50-59       0         0  56.000000  2.000000            0   \n",
       "1       1   68     60-69       0         0  67.000000  1.000000            0   \n",
       "2       1   68     60-69       1         0  67.000000  1.000000            0   \n",
       "3       1   75     70-79       1         0  73.161644  1.838356            0   \n",
       "4       1   61     60-69       1         1  60.300000  0.700000            0   \n",
       "\n",
       "   benz_med  clonazepam  ...   mono_ast    mono_dpi    mono_dvi   mono_gvi  \\\n",
       "0         0         0.0  ...  -2.821769  158.005040  317.678279  49.006920   \n",
       "1         0         0.0  ...   8.196296  295.429641  264.363532  40.564306   \n",
       "2         0         0.0  ...   4.710260  280.065517  316.584135  48.973638   \n",
       "3         0         0.0  ...  -9.094008  397.076923  799.548684  18.685239   \n",
       "4         0         0.0  ...  11.766684  205.690524  480.336538  33.542347   \n",
       "\n",
       "   mono_dus  mono_duf   mono_rlr  mono_pir   mono_rsr   mono_lre  \n",
       "0    22.375  0.588029 -19.771488       6.0  13.809770  127.25000  \n",
       "1    26.875 -0.824901 -23.256315       4.0  21.768707  312.60500  \n",
       "2    22.375 -0.954867 -13.292394       4.0  22.522523  200.97500  \n",
       "3    49.375  0.790737 -25.076240       2.0  14.367816  151.10000  \n",
       "4    26.875  0.074792 -22.318787       5.0  14.611872  151.15625  \n",
       "\n",
       "[5 rows x 63 columns]"
      ]
     },
     "execution_count": 3,
     "metadata": {},
     "output_type": "execute_result"
    }
   ],
   "source": [
    "data.head()"
   ]
  },
  {
   "cell_type": "code",
   "execution_count": 4,
   "metadata": {},
   "outputs": [
    {
     "data": {
      "text/html": [
       "<div>\n",
       "<style scoped>\n",
       "    .dataframe tbody tr th:only-of-type {\n",
       "        vertical-align: middle;\n",
       "    }\n",
       "\n",
       "    .dataframe tbody tr th {\n",
       "        vertical-align: top;\n",
       "    }\n",
       "\n",
       "    .dataframe thead th {\n",
       "        text-align: right;\n",
       "    }\n",
       "</style>\n",
       "<table border=\"1\" class=\"dataframe\">\n",
       "  <thead>\n",
       "    <tr style=\"text-align: right;\">\n",
       "      <th></th>\n",
       "      <th>age</th>\n",
       "      <th>gender</th>\n",
       "      <th>fam_hist</th>\n",
       "      <th>onset_age</th>\n",
       "      <th>duration</th>\n",
       "      <th>depress_med</th>\n",
       "      <th>benz_med</th>\n",
       "      <th>clonazepam</th>\n",
       "      <th>hy_scale</th>\n",
       "      <th>updrs_total</th>\n",
       "      <th>updrs_speech</th>\n",
       "      <th>updrs_face_exp</th>\n",
       "      <th>updrs_tremor_rest_head</th>\n",
       "      <th>updrs_trem_rest_RUE</th>\n",
       "    </tr>\n",
       "  </thead>\n",
       "  <tbody>\n",
       "    <tr>\n",
       "      <th>count</th>\n",
       "      <td>130.000000</td>\n",
       "      <td>130.000000</td>\n",
       "      <td>130.000000</td>\n",
       "      <td>80.000000</td>\n",
       "      <td>80.000000</td>\n",
       "      <td>130.000000</td>\n",
       "      <td>130.000000</td>\n",
       "      <td>130.000000</td>\n",
       "      <td>30.000000</td>\n",
       "      <td>80.000000</td>\n",
       "      <td>80.000000</td>\n",
       "      <td>80.000000</td>\n",
       "      <td>80.000000</td>\n",
       "      <td>80.000000</td>\n",
       "    </tr>\n",
       "    <tr>\n",
       "      <th>mean</th>\n",
       "      <td>64.330769</td>\n",
       "      <td>0.792308</td>\n",
       "      <td>-0.361538</td>\n",
       "      <td>60.727021</td>\n",
       "      <td>4.197979</td>\n",
       "      <td>0.376923</td>\n",
       "      <td>0.130769</td>\n",
       "      <td>0.044231</td>\n",
       "      <td>2.133333</td>\n",
       "      <td>10.812500</td>\n",
       "      <td>0.200000</td>\n",
       "      <td>0.750000</td>\n",
       "      <td>0.250000</td>\n",
       "      <td>0.275000</td>\n",
       "    </tr>\n",
       "    <tr>\n",
       "      <th>std</th>\n",
       "      <td>10.133518</td>\n",
       "      <td>0.407225</td>\n",
       "      <td>0.528327</td>\n",
       "      <td>10.718093</td>\n",
       "      <td>4.071073</td>\n",
       "      <td>1.479919</td>\n",
       "      <td>0.472310</td>\n",
       "      <td>0.216149</td>\n",
       "      <td>0.319842</td>\n",
       "      <td>10.984562</td>\n",
       "      <td>0.402524</td>\n",
       "      <td>0.819076</td>\n",
       "      <td>0.605878</td>\n",
       "      <td>0.550604</td>\n",
       "    </tr>\n",
       "    <tr>\n",
       "      <th>min</th>\n",
       "      <td>34.000000</td>\n",
       "      <td>0.000000</td>\n",
       "      <td>-1.000000</td>\n",
       "      <td>30.000000</td>\n",
       "      <td>0.500000</td>\n",
       "      <td>0.000000</td>\n",
       "      <td>0.000000</td>\n",
       "      <td>0.000000</td>\n",
       "      <td>1.500000</td>\n",
       "      <td>0.000000</td>\n",
       "      <td>0.000000</td>\n",
       "      <td>0.000000</td>\n",
       "      <td>0.000000</td>\n",
       "      <td>0.000000</td>\n",
       "    </tr>\n",
       "    <tr>\n",
       "      <th>25%</th>\n",
       "      <td>58.250000</td>\n",
       "      <td>1.000000</td>\n",
       "      <td>-1.000000</td>\n",
       "      <td>56.000000</td>\n",
       "      <td>1.000000</td>\n",
       "      <td>0.000000</td>\n",
       "      <td>0.000000</td>\n",
       "      <td>0.000000</td>\n",
       "      <td>2.000000</td>\n",
       "      <td>3.750000</td>\n",
       "      <td>0.000000</td>\n",
       "      <td>0.000000</td>\n",
       "      <td>0.000000</td>\n",
       "      <td>0.000000</td>\n",
       "    </tr>\n",
       "    <tr>\n",
       "      <th>50%</th>\n",
       "      <td>66.500000</td>\n",
       "      <td>1.000000</td>\n",
       "      <td>0.000000</td>\n",
       "      <td>62.500000</td>\n",
       "      <td>2.750000</td>\n",
       "      <td>0.000000</td>\n",
       "      <td>0.000000</td>\n",
       "      <td>0.000000</td>\n",
       "      <td>2.000000</td>\n",
       "      <td>7.000000</td>\n",
       "      <td>0.000000</td>\n",
       "      <td>1.000000</td>\n",
       "      <td>0.000000</td>\n",
       "      <td>0.000000</td>\n",
       "    </tr>\n",
       "    <tr>\n",
       "      <th>75%</th>\n",
       "      <td>72.000000</td>\n",
       "      <td>1.000000</td>\n",
       "      <td>0.000000</td>\n",
       "      <td>68.250000</td>\n",
       "      <td>5.000000</td>\n",
       "      <td>0.000000</td>\n",
       "      <td>0.000000</td>\n",
       "      <td>0.000000</td>\n",
       "      <td>2.500000</td>\n",
       "      <td>13.250000</td>\n",
       "      <td>0.000000</td>\n",
       "      <td>1.000000</td>\n",
       "      <td>0.000000</td>\n",
       "      <td>0.000000</td>\n",
       "    </tr>\n",
       "    <tr>\n",
       "      <th>max</th>\n",
       "      <td>83.000000</td>\n",
       "      <td>1.000000</td>\n",
       "      <td>1.000000</td>\n",
       "      <td>81.000000</td>\n",
       "      <td>17.000000</td>\n",
       "      <td>9.000000</td>\n",
       "      <td>3.000000</td>\n",
       "      <td>2.000000</td>\n",
       "      <td>2.500000</td>\n",
       "      <td>54.000000</td>\n",
       "      <td>1.000000</td>\n",
       "      <td>3.000000</td>\n",
       "      <td>3.000000</td>\n",
       "      <td>2.000000</td>\n",
       "    </tr>\n",
       "  </tbody>\n",
       "</table>\n",
       "</div>"
      ],
      "text/plain": [
       "              age      gender    fam_hist  onset_age   duration  depress_med  \\\n",
       "count  130.000000  130.000000  130.000000  80.000000  80.000000   130.000000   \n",
       "mean    64.330769    0.792308   -0.361538  60.727021   4.197979     0.376923   \n",
       "std     10.133518    0.407225    0.528327  10.718093   4.071073     1.479919   \n",
       "min     34.000000    0.000000   -1.000000  30.000000   0.500000     0.000000   \n",
       "25%     58.250000    1.000000   -1.000000  56.000000   1.000000     0.000000   \n",
       "50%     66.500000    1.000000    0.000000  62.500000   2.750000     0.000000   \n",
       "75%     72.000000    1.000000    0.000000  68.250000   5.000000     0.000000   \n",
       "max     83.000000    1.000000    1.000000  81.000000  17.000000     9.000000   \n",
       "\n",
       "         benz_med  clonazepam   hy_scale  updrs_total  updrs_speech  \\\n",
       "count  130.000000  130.000000  30.000000    80.000000     80.000000   \n",
       "mean     0.130769    0.044231   2.133333    10.812500      0.200000   \n",
       "std      0.472310    0.216149   0.319842    10.984562      0.402524   \n",
       "min      0.000000    0.000000   1.500000     0.000000      0.000000   \n",
       "25%      0.000000    0.000000   2.000000     3.750000      0.000000   \n",
       "50%      0.000000    0.000000   2.000000     7.000000      0.000000   \n",
       "75%      0.000000    0.000000   2.500000    13.250000      0.000000   \n",
       "max      3.000000    2.000000   2.500000    54.000000      1.000000   \n",
       "\n",
       "       updrs_face_exp  updrs_tremor_rest_head  updrs_trem_rest_RUE  \n",
       "count       80.000000               80.000000            80.000000  \n",
       "mean         0.750000                0.250000             0.275000  \n",
       "std          0.819076                0.605878             0.550604  \n",
       "min          0.000000                0.000000             0.000000  \n",
       "25%          0.000000                0.000000             0.000000  \n",
       "50%          1.000000                0.000000             0.000000  \n",
       "75%          1.000000                0.000000             0.000000  \n",
       "max          3.000000                3.000000             2.000000  "
      ]
     },
     "execution_count": 4,
     "metadata": {},
     "output_type": "execute_result"
    }
   ],
   "source": [
    "data.iloc[:, 1:16].describe()"
   ]
  },
  {
   "cell_type": "code",
   "execution_count": 5,
   "metadata": {},
   "outputs": [
    {
     "data": {
      "text/html": [
       "<div>\n",
       "<style scoped>\n",
       "    .dataframe tbody tr th:only-of-type {\n",
       "        vertical-align: middle;\n",
       "    }\n",
       "\n",
       "    .dataframe tbody tr th {\n",
       "        vertical-align: top;\n",
       "    }\n",
       "\n",
       "    .dataframe thead th {\n",
       "        text-align: right;\n",
       "    }\n",
       "</style>\n",
       "<table border=\"1\" class=\"dataframe\">\n",
       "  <thead>\n",
       "    <tr style=\"text-align: right;\">\n",
       "      <th></th>\n",
       "      <th>updrs_trem_rest_LUE</th>\n",
       "      <th>updrs_trem_rest_RLE</th>\n",
       "      <th>updrs_trem_rest_LLE</th>\n",
       "      <th>updrs_trem_act_RUE</th>\n",
       "      <th>updrs_trem_act_LUE</th>\n",
       "      <th>updrs_rig_neck</th>\n",
       "      <th>updrs_rig_RUE</th>\n",
       "      <th>updrs_rig_LUE</th>\n",
       "      <th>updrs_rig_RLE</th>\n",
       "      <th>updrs_rig_LLE</th>\n",
       "      <th>updrs_taps_RUE</th>\n",
       "      <th>updrs_taps_LUE</th>\n",
       "      <th>updrs_hand_RUE</th>\n",
       "      <th>updrs_hand_LUE</th>\n",
       "      <th>updrs_altmove_RUE</th>\n",
       "    </tr>\n",
       "  </thead>\n",
       "  <tbody>\n",
       "    <tr>\n",
       "      <th>count</th>\n",
       "      <td>80.000000</td>\n",
       "      <td>80.000000</td>\n",
       "      <td>80.000000</td>\n",
       "      <td>80.000000</td>\n",
       "      <td>80.000000</td>\n",
       "      <td>80.000000</td>\n",
       "      <td>80.000000</td>\n",
       "      <td>80.000000</td>\n",
       "      <td>80.000000</td>\n",
       "      <td>80.000000</td>\n",
       "      <td>80.000000</td>\n",
       "      <td>80.00000</td>\n",
       "      <td>80.000000</td>\n",
       "      <td>80.000000</td>\n",
       "      <td>80.000000</td>\n",
       "    </tr>\n",
       "    <tr>\n",
       "      <th>mean</th>\n",
       "      <td>0.087500</td>\n",
       "      <td>0.037500</td>\n",
       "      <td>0.087500</td>\n",
       "      <td>0.575000</td>\n",
       "      <td>0.625000</td>\n",
       "      <td>0.362500</td>\n",
       "      <td>0.412500</td>\n",
       "      <td>0.300000</td>\n",
       "      <td>0.187500</td>\n",
       "      <td>0.162500</td>\n",
       "      <td>0.687500</td>\n",
       "      <td>0.73750</td>\n",
       "      <td>0.512500</td>\n",
       "      <td>0.612500</td>\n",
       "      <td>0.487500</td>\n",
       "    </tr>\n",
       "    <tr>\n",
       "      <th>std</th>\n",
       "      <td>0.325839</td>\n",
       "      <td>0.191182</td>\n",
       "      <td>0.362612</td>\n",
       "      <td>0.590537</td>\n",
       "      <td>0.643861</td>\n",
       "      <td>0.783432</td>\n",
       "      <td>0.741086</td>\n",
       "      <td>0.603786</td>\n",
       "      <td>0.452664</td>\n",
       "      <td>0.462348</td>\n",
       "      <td>0.922212</td>\n",
       "      <td>0.91047</td>\n",
       "      <td>0.795458</td>\n",
       "      <td>0.834293</td>\n",
       "      <td>0.927686</td>\n",
       "    </tr>\n",
       "    <tr>\n",
       "      <th>min</th>\n",
       "      <td>0.000000</td>\n",
       "      <td>0.000000</td>\n",
       "      <td>0.000000</td>\n",
       "      <td>0.000000</td>\n",
       "      <td>0.000000</td>\n",
       "      <td>0.000000</td>\n",
       "      <td>0.000000</td>\n",
       "      <td>0.000000</td>\n",
       "      <td>0.000000</td>\n",
       "      <td>0.000000</td>\n",
       "      <td>0.000000</td>\n",
       "      <td>0.00000</td>\n",
       "      <td>0.000000</td>\n",
       "      <td>0.000000</td>\n",
       "      <td>0.000000</td>\n",
       "    </tr>\n",
       "    <tr>\n",
       "      <th>25%</th>\n",
       "      <td>0.000000</td>\n",
       "      <td>0.000000</td>\n",
       "      <td>0.000000</td>\n",
       "      <td>0.000000</td>\n",
       "      <td>0.000000</td>\n",
       "      <td>0.000000</td>\n",
       "      <td>0.000000</td>\n",
       "      <td>0.000000</td>\n",
       "      <td>0.000000</td>\n",
       "      <td>0.000000</td>\n",
       "      <td>0.000000</td>\n",
       "      <td>0.00000</td>\n",
       "      <td>0.000000</td>\n",
       "      <td>0.000000</td>\n",
       "      <td>0.000000</td>\n",
       "    </tr>\n",
       "    <tr>\n",
       "      <th>50%</th>\n",
       "      <td>0.000000</td>\n",
       "      <td>0.000000</td>\n",
       "      <td>0.000000</td>\n",
       "      <td>1.000000</td>\n",
       "      <td>1.000000</td>\n",
       "      <td>0.000000</td>\n",
       "      <td>0.000000</td>\n",
       "      <td>0.000000</td>\n",
       "      <td>0.000000</td>\n",
       "      <td>0.000000</td>\n",
       "      <td>0.000000</td>\n",
       "      <td>1.00000</td>\n",
       "      <td>0.000000</td>\n",
       "      <td>0.000000</td>\n",
       "      <td>0.000000</td>\n",
       "    </tr>\n",
       "    <tr>\n",
       "      <th>75%</th>\n",
       "      <td>0.000000</td>\n",
       "      <td>0.000000</td>\n",
       "      <td>0.000000</td>\n",
       "      <td>1.000000</td>\n",
       "      <td>1.000000</td>\n",
       "      <td>0.000000</td>\n",
       "      <td>1.000000</td>\n",
       "      <td>0.000000</td>\n",
       "      <td>0.000000</td>\n",
       "      <td>0.000000</td>\n",
       "      <td>1.000000</td>\n",
       "      <td>1.00000</td>\n",
       "      <td>1.000000</td>\n",
       "      <td>1.000000</td>\n",
       "      <td>1.000000</td>\n",
       "    </tr>\n",
       "    <tr>\n",
       "      <th>max</th>\n",
       "      <td>2.000000</td>\n",
       "      <td>1.000000</td>\n",
       "      <td>2.000000</td>\n",
       "      <td>2.000000</td>\n",
       "      <td>2.000000</td>\n",
       "      <td>3.000000</td>\n",
       "      <td>3.000000</td>\n",
       "      <td>3.000000</td>\n",
       "      <td>2.000000</td>\n",
       "      <td>2.000000</td>\n",
       "      <td>4.000000</td>\n",
       "      <td>4.00000</td>\n",
       "      <td>3.000000</td>\n",
       "      <td>4.000000</td>\n",
       "      <td>4.000000</td>\n",
       "    </tr>\n",
       "  </tbody>\n",
       "</table>\n",
       "</div>"
      ],
      "text/plain": [
       "       updrs_trem_rest_LUE  updrs_trem_rest_RLE  updrs_trem_rest_LLE  \\\n",
       "count            80.000000            80.000000            80.000000   \n",
       "mean              0.087500             0.037500             0.087500   \n",
       "std               0.325839             0.191182             0.362612   \n",
       "min               0.000000             0.000000             0.000000   \n",
       "25%               0.000000             0.000000             0.000000   \n",
       "50%               0.000000             0.000000             0.000000   \n",
       "75%               0.000000             0.000000             0.000000   \n",
       "max               2.000000             1.000000             2.000000   \n",
       "\n",
       "       updrs_trem_act_RUE  updrs_trem_act_LUE  updrs_rig_neck  updrs_rig_RUE  \\\n",
       "count           80.000000           80.000000       80.000000      80.000000   \n",
       "mean             0.575000            0.625000        0.362500       0.412500   \n",
       "std              0.590537            0.643861        0.783432       0.741086   \n",
       "min              0.000000            0.000000        0.000000       0.000000   \n",
       "25%              0.000000            0.000000        0.000000       0.000000   \n",
       "50%              1.000000            1.000000        0.000000       0.000000   \n",
       "75%              1.000000            1.000000        0.000000       1.000000   \n",
       "max              2.000000            2.000000        3.000000       3.000000   \n",
       "\n",
       "       updrs_rig_LUE  updrs_rig_RLE  updrs_rig_LLE  updrs_taps_RUE  \\\n",
       "count      80.000000      80.000000      80.000000       80.000000   \n",
       "mean        0.300000       0.187500       0.162500        0.687500   \n",
       "std         0.603786       0.452664       0.462348        0.922212   \n",
       "min         0.000000       0.000000       0.000000        0.000000   \n",
       "25%         0.000000       0.000000       0.000000        0.000000   \n",
       "50%         0.000000       0.000000       0.000000        0.000000   \n",
       "75%         0.000000       0.000000       0.000000        1.000000   \n",
       "max         3.000000       2.000000       2.000000        4.000000   \n",
       "\n",
       "       updrs_taps_LUE  updrs_hand_RUE  updrs_hand_LUE  updrs_altmove_RUE  \n",
       "count        80.00000       80.000000       80.000000          80.000000  \n",
       "mean          0.73750        0.512500        0.612500           0.487500  \n",
       "std           0.91047        0.795458        0.834293           0.927686  \n",
       "min           0.00000        0.000000        0.000000           0.000000  \n",
       "25%           0.00000        0.000000        0.000000           0.000000  \n",
       "50%           1.00000        0.000000        0.000000           0.000000  \n",
       "75%           1.00000        1.000000        1.000000           1.000000  \n",
       "max           4.00000        3.000000        4.000000           4.000000  "
      ]
     },
     "execution_count": 5,
     "metadata": {},
     "output_type": "execute_result"
    }
   ],
   "source": [
    "data.iloc[:, 16:31].describe()"
   ]
  },
  {
   "cell_type": "code",
   "execution_count": 6,
   "metadata": {},
   "outputs": [
    {
     "data": {
      "text/html": [
       "<div>\n",
       "<style scoped>\n",
       "    .dataframe tbody tr th:only-of-type {\n",
       "        vertical-align: middle;\n",
       "    }\n",
       "\n",
       "    .dataframe tbody tr th {\n",
       "        vertical-align: top;\n",
       "    }\n",
       "\n",
       "    .dataframe thead th {\n",
       "        text-align: right;\n",
       "    }\n",
       "</style>\n",
       "<table border=\"1\" class=\"dataframe\">\n",
       "  <thead>\n",
       "    <tr style=\"text-align: right;\">\n",
       "      <th></th>\n",
       "      <th>updrs_altmove_LUE</th>\n",
       "      <th>updrs_leg_RLE</th>\n",
       "      <th>updrs_leg_LLE</th>\n",
       "      <th>updrs_rise_chair</th>\n",
       "      <th>updrs_posture</th>\n",
       "      <th>updrs_gait</th>\n",
       "      <th>updrs_post_stab</th>\n",
       "      <th>updrs_brady_hypo</th>\n",
       "      <th>pass_est</th>\n",
       "      <th>pass_rst</th>\n",
       "      <th>pass_ast</th>\n",
       "      <th>pass_dpi</th>\n",
       "      <th>pass_dvi</th>\n",
       "      <th>pass_gvi</th>\n",
       "      <th>pass_dus</th>\n",
       "    </tr>\n",
       "  </thead>\n",
       "  <tbody>\n",
       "    <tr>\n",
       "      <th>count</th>\n",
       "      <td>80.000000</td>\n",
       "      <td>80.000000</td>\n",
       "      <td>80.000000</td>\n",
       "      <td>80.000000</td>\n",
       "      <td>80.000000</td>\n",
       "      <td>80.000000</td>\n",
       "      <td>80.00000</td>\n",
       "      <td>80.00000</td>\n",
       "      <td>130.000000</td>\n",
       "      <td>130.000000</td>\n",
       "      <td>130.000000</td>\n",
       "      <td>130.000000</td>\n",
       "      <td>130.000000</td>\n",
       "      <td>130.000000</td>\n",
       "      <td>130.000000</td>\n",
       "    </tr>\n",
       "    <tr>\n",
       "      <th>mean</th>\n",
       "      <td>0.687500</td>\n",
       "      <td>0.387500</td>\n",
       "      <td>0.512500</td>\n",
       "      <td>0.137500</td>\n",
       "      <td>0.662500</td>\n",
       "      <td>0.387500</td>\n",
       "      <td>0.26250</td>\n",
       "      <td>0.42500</td>\n",
       "      <td>1.551148</td>\n",
       "      <td>327.300546</td>\n",
       "      <td>10.929840</td>\n",
       "      <td>166.658779</td>\n",
       "      <td>285.749805</td>\n",
       "      <td>53.262640</td>\n",
       "      <td>30.613462</td>\n",
       "    </tr>\n",
       "    <tr>\n",
       "      <th>std</th>\n",
       "      <td>0.908382</td>\n",
       "      <td>0.684249</td>\n",
       "      <td>0.762968</td>\n",
       "      <td>0.346547</td>\n",
       "      <td>0.870672</td>\n",
       "      <td>0.539427</td>\n",
       "      <td>0.47049</td>\n",
       "      <td>0.75933</td>\n",
       "      <td>0.019820</td>\n",
       "      <td>47.420346</td>\n",
       "      <td>12.151623</td>\n",
       "      <td>46.458442</td>\n",
       "      <td>51.604252</td>\n",
       "      <td>15.606368</td>\n",
       "      <td>8.550798</td>\n",
       "    </tr>\n",
       "    <tr>\n",
       "      <th>min</th>\n",
       "      <td>0.000000</td>\n",
       "      <td>0.000000</td>\n",
       "      <td>0.000000</td>\n",
       "      <td>0.000000</td>\n",
       "      <td>0.000000</td>\n",
       "      <td>0.000000</td>\n",
       "      <td>0.00000</td>\n",
       "      <td>0.00000</td>\n",
       "      <td>1.445552</td>\n",
       "      <td>139.695881</td>\n",
       "      <td>-20.318328</td>\n",
       "      <td>96.302025</td>\n",
       "      <td>196.796719</td>\n",
       "      <td>13.716711</td>\n",
       "      <td>17.875000</td>\n",
       "    </tr>\n",
       "    <tr>\n",
       "      <th>25%</th>\n",
       "      <td>0.000000</td>\n",
       "      <td>0.000000</td>\n",
       "      <td>0.000000</td>\n",
       "      <td>0.000000</td>\n",
       "      <td>0.000000</td>\n",
       "      <td>0.000000</td>\n",
       "      <td>0.00000</td>\n",
       "      <td>0.00000</td>\n",
       "      <td>1.545985</td>\n",
       "      <td>297.209736</td>\n",
       "      <td>3.519208</td>\n",
       "      <td>138.227105</td>\n",
       "      <td>256.624848</td>\n",
       "      <td>42.716714</td>\n",
       "      <td>24.625000</td>\n",
       "    </tr>\n",
       "    <tr>\n",
       "      <th>50%</th>\n",
       "      <td>0.000000</td>\n",
       "      <td>0.000000</td>\n",
       "      <td>0.000000</td>\n",
       "      <td>0.000000</td>\n",
       "      <td>0.000000</td>\n",
       "      <td>0.000000</td>\n",
       "      <td>0.00000</td>\n",
       "      <td>0.00000</td>\n",
       "      <td>1.555850</td>\n",
       "      <td>335.619790</td>\n",
       "      <td>11.309455</td>\n",
       "      <td>156.046049</td>\n",
       "      <td>275.631233</td>\n",
       "      <td>52.673694</td>\n",
       "      <td>28.562500</td>\n",
       "    </tr>\n",
       "    <tr>\n",
       "      <th>75%</th>\n",
       "      <td>1.000000</td>\n",
       "      <td>1.000000</td>\n",
       "      <td>1.000000</td>\n",
       "      <td>0.000000</td>\n",
       "      <td>1.000000</td>\n",
       "      <td>1.000000</td>\n",
       "      <td>0.25000</td>\n",
       "      <td>1.00000</td>\n",
       "      <td>1.562682</td>\n",
       "      <td>358.471788</td>\n",
       "      <td>17.844037</td>\n",
       "      <td>184.838220</td>\n",
       "      <td>304.345847</td>\n",
       "      <td>62.942737</td>\n",
       "      <td>34.750000</td>\n",
       "    </tr>\n",
       "    <tr>\n",
       "      <th>max</th>\n",
       "      <td>3.000000</td>\n",
       "      <td>3.000000</td>\n",
       "      <td>3.000000</td>\n",
       "      <td>1.000000</td>\n",
       "      <td>3.000000</td>\n",
       "      <td>2.000000</td>\n",
       "      <td>2.00000</td>\n",
       "      <td>3.00000</td>\n",
       "      <td>1.574490</td>\n",
       "      <td>457.309598</td>\n",
       "      <td>43.365109</td>\n",
       "      <td>388.027536</td>\n",
       "      <td>662.782692</td>\n",
       "      <td>109.496975</td>\n",
       "      <td>64.000000</td>\n",
       "    </tr>\n",
       "  </tbody>\n",
       "</table>\n",
       "</div>"
      ],
      "text/plain": [
       "       updrs_altmove_LUE  updrs_leg_RLE  updrs_leg_LLE  updrs_rise_chair  \\\n",
       "count          80.000000      80.000000      80.000000         80.000000   \n",
       "mean            0.687500       0.387500       0.512500          0.137500   \n",
       "std             0.908382       0.684249       0.762968          0.346547   \n",
       "min             0.000000       0.000000       0.000000          0.000000   \n",
       "25%             0.000000       0.000000       0.000000          0.000000   \n",
       "50%             0.000000       0.000000       0.000000          0.000000   \n",
       "75%             1.000000       1.000000       1.000000          0.000000   \n",
       "max             3.000000       3.000000       3.000000          1.000000   \n",
       "\n",
       "       updrs_posture  updrs_gait  updrs_post_stab  updrs_brady_hypo  \\\n",
       "count      80.000000   80.000000         80.00000          80.00000   \n",
       "mean        0.662500    0.387500          0.26250           0.42500   \n",
       "std         0.870672    0.539427          0.47049           0.75933   \n",
       "min         0.000000    0.000000          0.00000           0.00000   \n",
       "25%         0.000000    0.000000          0.00000           0.00000   \n",
       "50%         0.000000    0.000000          0.00000           0.00000   \n",
       "75%         1.000000    1.000000          0.25000           1.00000   \n",
       "max         3.000000    2.000000          2.00000           3.00000   \n",
       "\n",
       "         pass_est    pass_rst    pass_ast    pass_dpi    pass_dvi    pass_gvi  \\\n",
       "count  130.000000  130.000000  130.000000  130.000000  130.000000  130.000000   \n",
       "mean     1.551148  327.300546   10.929840  166.658779  285.749805   53.262640   \n",
       "std      0.019820   47.420346   12.151623   46.458442   51.604252   15.606368   \n",
       "min      1.445552  139.695881  -20.318328   96.302025  196.796719   13.716711   \n",
       "25%      1.545985  297.209736    3.519208  138.227105  256.624848   42.716714   \n",
       "50%      1.555850  335.619790   11.309455  156.046049  275.631233   52.673694   \n",
       "75%      1.562682  358.471788   17.844037  184.838220  304.345847   62.942737   \n",
       "max      1.574490  457.309598   43.365109  388.027536  662.782692  109.496975   \n",
       "\n",
       "         pass_dus  \n",
       "count  130.000000  \n",
       "mean    30.613462  \n",
       "std      8.550798  \n",
       "min     17.875000  \n",
       "25%     24.625000  \n",
       "50%     28.562500  \n",
       "75%     34.750000  \n",
       "max     64.000000  "
      ]
     },
     "execution_count": 6,
     "metadata": {},
     "output_type": "execute_result"
    }
   ],
   "source": [
    "data.iloc[:, 31:46].describe()"
   ]
  },
  {
   "cell_type": "code",
   "execution_count": 7,
   "metadata": {},
   "outputs": [
    {
     "data": {
      "text/html": [
       "<div>\n",
       "<style scoped>\n",
       "    .dataframe tbody tr th:only-of-type {\n",
       "        vertical-align: middle;\n",
       "    }\n",
       "\n",
       "    .dataframe tbody tr th {\n",
       "        vertical-align: top;\n",
       "    }\n",
       "\n",
       "    .dataframe thead th {\n",
       "        text-align: right;\n",
       "    }\n",
       "</style>\n",
       "<table border=\"1\" class=\"dataframe\">\n",
       "  <thead>\n",
       "    <tr style=\"text-align: right;\">\n",
       "      <th></th>\n",
       "      <th>pass_duf</th>\n",
       "      <th>pass_rlr</th>\n",
       "      <th>pass_pir</th>\n",
       "      <th>pass_rsr</th>\n",
       "      <th>pass_lre</th>\n",
       "      <th>mono_est</th>\n",
       "      <th>mono_rst</th>\n",
       "      <th>mono_ast</th>\n",
       "      <th>mono_dpi</th>\n",
       "      <th>mono_dvi</th>\n",
       "      <th>mono_gvi</th>\n",
       "      <th>mono_dus</th>\n",
       "      <th>mono_duf</th>\n",
       "      <th>mono_rlr</th>\n",
       "      <th>mono_pir</th>\n",
       "      <th>mono_rsr</th>\n",
       "      <th>mono_lre</th>\n",
       "    </tr>\n",
       "  </thead>\n",
       "  <tbody>\n",
       "    <tr>\n",
       "      <th>count</th>\n",
       "      <td>130.000000</td>\n",
       "      <td>130.000000</td>\n",
       "      <td>130.000000</td>\n",
       "      <td>130.000000</td>\n",
       "      <td>130.000000</td>\n",
       "      <td>130.000000</td>\n",
       "      <td>130.000000</td>\n",
       "      <td>130.000000</td>\n",
       "      <td>130.000000</td>\n",
       "      <td>130.000000</td>\n",
       "      <td>130.000000</td>\n",
       "      <td>130.000000</td>\n",
       "      <td>130.000000</td>\n",
       "      <td>130.000000</td>\n",
       "      <td>130.000000</td>\n",
       "      <td>130.000000</td>\n",
       "      <td>130.000000</td>\n",
       "    </tr>\n",
       "    <tr>\n",
       "      <th>mean</th>\n",
       "      <td>-1.602822</td>\n",
       "      <td>-22.258837</td>\n",
       "      <td>5.571154</td>\n",
       "      <td>18.092133</td>\n",
       "      <td>134.624621</td>\n",
       "      <td>1.555706</td>\n",
       "      <td>288.311740</td>\n",
       "      <td>1.573962</td>\n",
       "      <td>229.063305</td>\n",
       "      <td>321.385626</td>\n",
       "      <td>45.090038</td>\n",
       "      <td>27.913462</td>\n",
       "      <td>0.045947</td>\n",
       "      <td>-20.033168</td>\n",
       "      <td>4.457692</td>\n",
       "      <td>17.447031</td>\n",
       "      <td>145.201643</td>\n",
       "    </tr>\n",
       "    <tr>\n",
       "      <th>std</th>\n",
       "      <td>2.805822</td>\n",
       "      <td>3.297199</td>\n",
       "      <td>2.417282</td>\n",
       "      <td>5.125082</td>\n",
       "      <td>63.371368</td>\n",
       "      <td>0.013354</td>\n",
       "      <td>52.885509</td>\n",
       "      <td>5.005443</td>\n",
       "      <td>79.688547</td>\n",
       "      <td>72.991205</td>\n",
       "      <td>12.521830</td>\n",
       "      <td>7.647608</td>\n",
       "      <td>0.592296</td>\n",
       "      <td>3.298633</td>\n",
       "      <td>1.791490</td>\n",
       "      <td>4.069952</td>\n",
       "      <td>85.267293</td>\n",
       "    </tr>\n",
       "    <tr>\n",
       "      <th>min</th>\n",
       "      <td>-12.590935</td>\n",
       "      <td>-30.482711</td>\n",
       "      <td>1.000000</td>\n",
       "      <td>5.223399</td>\n",
       "      <td>9.991460</td>\n",
       "      <td>1.511963</td>\n",
       "      <td>111.979555</td>\n",
       "      <td>-17.872978</td>\n",
       "      <td>116.984601</td>\n",
       "      <td>211.458141</td>\n",
       "      <td>14.683689</td>\n",
       "      <td>13.375000</td>\n",
       "      <td>-1.417319</td>\n",
       "      <td>-27.309569</td>\n",
       "      <td>1.500000</td>\n",
       "      <td>8.205128</td>\n",
       "      <td>14.719595</td>\n",
       "    </tr>\n",
       "    <tr>\n",
       "      <th>25%</th>\n",
       "      <td>-2.977454</td>\n",
       "      <td>-24.154100</td>\n",
       "      <td>4.000000</td>\n",
       "      <td>15.308291</td>\n",
       "      <td>89.458036</td>\n",
       "      <td>1.550665</td>\n",
       "      <td>257.661980</td>\n",
       "      <td>-1.526491</td>\n",
       "      <td>176.731358</td>\n",
       "      <td>277.930804</td>\n",
       "      <td>36.984885</td>\n",
       "      <td>22.375000</td>\n",
       "      <td>-0.350295</td>\n",
       "      <td>-22.202553</td>\n",
       "      <td>3.000000</td>\n",
       "      <td>14.573960</td>\n",
       "      <td>90.571121</td>\n",
       "    </tr>\n",
       "    <tr>\n",
       "      <th>50%</th>\n",
       "      <td>-1.271306</td>\n",
       "      <td>-22.553548</td>\n",
       "      <td>5.250000</td>\n",
       "      <td>17.805281</td>\n",
       "      <td>124.700000</td>\n",
       "      <td>1.558390</td>\n",
       "      <td>285.900012</td>\n",
       "      <td>1.270417</td>\n",
       "      <td>212.616406</td>\n",
       "      <td>311.911058</td>\n",
       "      <td>44.421247</td>\n",
       "      <td>26.875000</td>\n",
       "      <td>0.033868</td>\n",
       "      <td>-20.390717</td>\n",
       "      <td>4.000000</td>\n",
       "      <td>17.584581</td>\n",
       "      <td>127.475000</td>\n",
       "    </tr>\n",
       "    <tr>\n",
       "      <th>75%</th>\n",
       "      <td>0.122297</td>\n",
       "      <td>-20.270430</td>\n",
       "      <td>6.500000</td>\n",
       "      <td>21.118730</td>\n",
       "      <td>167.023438</td>\n",
       "      <td>1.564260</td>\n",
       "      <td>328.568757</td>\n",
       "      <td>4.686127</td>\n",
       "      <td>263.338884</td>\n",
       "      <td>347.953046</td>\n",
       "      <td>53.531819</td>\n",
       "      <td>31.375000</td>\n",
       "      <td>0.427532</td>\n",
       "      <td>-17.884910</td>\n",
       "      <td>5.000000</td>\n",
       "      <td>19.891543</td>\n",
       "      <td>176.598354</td>\n",
       "    </tr>\n",
       "    <tr>\n",
       "      <th>max</th>\n",
       "      <td>5.825488</td>\n",
       "      <td>-15.044124</td>\n",
       "      <td>18.500000</td>\n",
       "      <td>40.222072</td>\n",
       "      <td>441.350000</td>\n",
       "      <td>1.576198</td>\n",
       "      <td>411.713859</td>\n",
       "      <td>14.636141</td>\n",
       "      <td>610.987903</td>\n",
       "      <td>799.548684</td>\n",
       "      <td>74.155060</td>\n",
       "      <td>58.375000</td>\n",
       "      <td>1.916336</td>\n",
       "      <td>-8.855366</td>\n",
       "      <td>13.500000</td>\n",
       "      <td>28.875654</td>\n",
       "      <td>593.482143</td>\n",
       "    </tr>\n",
       "  </tbody>\n",
       "</table>\n",
       "</div>"
      ],
      "text/plain": [
       "         pass_duf    pass_rlr    pass_pir    pass_rsr    pass_lre    mono_est  \\\n",
       "count  130.000000  130.000000  130.000000  130.000000  130.000000  130.000000   \n",
       "mean    -1.602822  -22.258837    5.571154   18.092133  134.624621    1.555706   \n",
       "std      2.805822    3.297199    2.417282    5.125082   63.371368    0.013354   \n",
       "min    -12.590935  -30.482711    1.000000    5.223399    9.991460    1.511963   \n",
       "25%     -2.977454  -24.154100    4.000000   15.308291   89.458036    1.550665   \n",
       "50%     -1.271306  -22.553548    5.250000   17.805281  124.700000    1.558390   \n",
       "75%      0.122297  -20.270430    6.500000   21.118730  167.023438    1.564260   \n",
       "max      5.825488  -15.044124   18.500000   40.222072  441.350000    1.576198   \n",
       "\n",
       "         mono_rst    mono_ast    mono_dpi    mono_dvi    mono_gvi    mono_dus  \\\n",
       "count  130.000000  130.000000  130.000000  130.000000  130.000000  130.000000   \n",
       "mean   288.311740    1.573962  229.063305  321.385626   45.090038   27.913462   \n",
       "std     52.885509    5.005443   79.688547   72.991205   12.521830    7.647608   \n",
       "min    111.979555  -17.872978  116.984601  211.458141   14.683689   13.375000   \n",
       "25%    257.661980   -1.526491  176.731358  277.930804   36.984885   22.375000   \n",
       "50%    285.900012    1.270417  212.616406  311.911058   44.421247   26.875000   \n",
       "75%    328.568757    4.686127  263.338884  347.953046   53.531819   31.375000   \n",
       "max    411.713859   14.636141  610.987903  799.548684   74.155060   58.375000   \n",
       "\n",
       "         mono_duf    mono_rlr    mono_pir    mono_rsr    mono_lre  \n",
       "count  130.000000  130.000000  130.000000  130.000000  130.000000  \n",
       "mean     0.045947  -20.033168    4.457692   17.447031  145.201643  \n",
       "std      0.592296    3.298633    1.791490    4.069952   85.267293  \n",
       "min     -1.417319  -27.309569    1.500000    8.205128   14.719595  \n",
       "25%     -0.350295  -22.202553    3.000000   14.573960   90.571121  \n",
       "50%      0.033868  -20.390717    4.000000   17.584581  127.475000  \n",
       "75%      0.427532  -17.884910    5.000000   19.891543  176.598354  \n",
       "max      1.916336   -8.855366   13.500000   28.875654  593.482143  "
      ]
     },
     "execution_count": 7,
     "metadata": {},
     "output_type": "execute_result"
    }
   ],
   "source": [
    "data.iloc[:, 46:].describe()"
   ]
  },
  {
   "cell_type": "markdown",
   "metadata": {},
   "source": [
    "## Status"
   ]
  },
  {
   "cell_type": "code",
   "execution_count": 8,
   "metadata": {},
   "outputs": [
    {
     "data": {
      "image/png": "[encoded data removed]",
      "text/plain": [
       "<Figure size 432x288 with 1 Axes>"
      ]
     },
     "metadata": {
      "needs_background": "light"
     },
     "output_type": "display_data"
    }
   ],
   "source": [
    "total = float(len(data)) \n",
    "ax = sns.countplot(x='status', data=data)\n",
    "for p in ax.patches:\n",
    "    height = p.get_height()\n",
    "    ax.text(p.get_x()+p.get_width()/2.,\n",
    "            height + .25,\n",
    "            '{:.2%}'.format(height/total),\n",
    "            ha=\"center\") \n",
    "plt.show()"
   ]
  },
  {
   "cell_type": "markdown",
   "metadata": {},
   "source": [
    "## Age"
   ]
  },
  {
   "cell_type": "code",
   "execution_count": 9,
   "metadata": {},
   "outputs": [
    {
     "data": {
      "image/png": "[encoded data removed]",
      "text/plain": [
       "<Figure size 432x288 with 1 Axes>"
      ]
     },
     "metadata": {},
     "output_type": "display_data"
    }
   ],
   "source": [
    "sns.set()\n",
    "total = float(len(data)) \n",
    "ax = sns.countplot(x='age_range', data=data, order =['30-39','40-49','50-59','60-69','70-79','80+'])\n",
    "for p in ax.patches:\n",
    "    height = p.get_height()\n",
    "    ax.text(p.get_x()+p.get_width()/2.,\n",
    "            height + .25,\n",
    "            '{:.2%}'.format(height/total),\n",
    "            ha=\"center\") \n",
    "plt.show()"
   ]
  },
  {
   "cell_type": "markdown",
   "metadata": {},
   "source": [
    "## Gender"
   ]
  },
  {
   "cell_type": "code",
   "execution_count": 10,
   "metadata": {},
   "outputs": [
    {
     "data": {
      "text/plain": [
       "status  gender\n",
       "0       0          9\n",
       "        1         41\n",
       "1       0          9\n",
       "        1         21\n",
       "2       0          9\n",
       "        1         41\n",
       "Name: status, dtype: int64"
      ]
     },
     "execution_count": 10,
     "metadata": {},
     "output_type": "execute_result"
    },
    {
     "data": {
      "image/png": "[encoded data removed]",
      "text/plain": [
       "<Figure size 432x288 with 1 Axes>"
      ]
     },
     "metadata": {},
     "output_type": "display_data"
    }
   ],
   "source": [
    "sns.countplot(x='gender', data=data, hue='status')\n",
    "plt.legend(title='Status', loc='upper left', labels=['HC', 'PD', 'RBD'])\n",
    "\n",
    "data.groupby(['status', 'gender'])['status'].count()"
   ]
  },
  {
   "cell_type": "code",
   "execution_count": 11,
   "metadata": {},
   "outputs": [
    {
     "data": {
      "text/plain": [
       "<matplotlib.axes._subplots.AxesSubplot at 0x1246a86a0>"
      ]
     },
     "execution_count": 11,
     "metadata": {},
     "output_type": "execute_result"
    },
    {
     "data": {
      "image/png": "[encoded data removed]",
      "text/plain": [
       "<Figure size 432x288 with 1 Axes>"
      ]
     },
     "metadata": {},
     "output_type": "display_data"
    }
   ],
   "source": [
    "sns.countplot(x='gender', data=data, hue='age_range')"
   ]
  },
  {
   "cell_type": "markdown",
   "metadata": {},
   "source": [
    "## Family History"
   ]
  },
  {
   "cell_type": "code",
   "execution_count": 12,
   "metadata": {},
   "outputs": [
    {
     "data": {
      "text/plain": [
       "status\n",
       "1    2\n",
       "2    1\n",
       "Name: fam_hist, dtype: int64"
      ]
     },
     "execution_count": 12,
     "metadata": {},
     "output_type": "execute_result"
    }
   ],
   "source": [
    "data[data['fam_hist'] == 1 ].groupby('status')['fam_hist'].count()"
   ]
  },
  {
   "cell_type": "markdown",
   "metadata": {},
   "source": [
    "## Duration"
   ]
  },
  {
   "cell_type": "code",
   "execution_count": 13,
   "metadata": {},
   "outputs": [
    {
     "name": "stdout",
     "output_type": "stream",
     "text": [
      "status\n",
      "0         NaN\n",
      "1    1.594612\n",
      "2    5.760000\n",
      "Name: duration, dtype: float64\n",
      "68    2\n",
      "Name: status, dtype: int64\n",
      "5     1\n",
      "23    1\n",
      "26    1\n",
      "Name: status, dtype: int64\n"
     ]
    }
   ],
   "source": [
    "print(data.groupby(['status'])['duration'].mean())\n",
    "print(data.query('duration == duration.max()')['status'])\n",
    "print(data.query('duration == duration.min()')['status'])"
   ]
  },
  {
   "cell_type": "markdown",
   "metadata": {},
   "source": [
    "## Medication"
   ]
  },
  {
   "cell_type": "code",
   "execution_count": 14,
   "metadata": {},
   "outputs": [
    {
     "name": "stdout",
     "output_type": "stream",
     "text": [
      "depress_med by Status: \n",
      " status\n",
      "1    3\n",
      "2    7\n",
      "Name: depress_med, dtype: int64 \n",
      "\n",
      "benz_med by Status: \n",
      " status\n",
      "1    4\n",
      "2    8\n",
      "Name: benz_med, dtype: int64 \n",
      "\n",
      "clonazepam by Status: \n",
      " status\n",
      "1    3\n",
      "2    6\n",
      "Name: clonazepam, dtype: int64 \n",
      "\n"
     ]
    }
   ],
   "source": [
    "meds = ['depress_med', 'benz_med', 'clonazepam' ]\n",
    "\n",
    "for med in meds:\n",
    "    print(med + \" by Status: \\n\",data[data[med] != 0].groupby('status')[med].count(), \"\\n\")"
   ]
  },
  {
   "cell_type": "markdown",
   "metadata": {},
   "source": [
    "## Hoehn & Yahr Scale"
   ]
  },
  {
   "cell_type": "code",
   "execution_count": 15,
   "metadata": {},
   "outputs": [
    {
     "data": {
      "text/plain": [
       "<matplotlib.legend.Legend at 0x1247940d0>"
      ]
     },
     "execution_count": 15,
     "metadata": {},
     "output_type": "execute_result"
    },
    {
     "data": {
      "image/png": "[encoded data removed]",
      "text/plain": [
       "<Figure size 432x288 with 1 Axes>"
      ]
     },
     "metadata": {},
     "output_type": "display_data"
    }
   ],
   "source": [
    "sns.countplot(x='hy_scale', data=data, hue='gender')\n",
    "plt.legend(title='Gender', loc='upper left', labels=['Female', 'Male'])"
   ]
  },
  {
   "cell_type": "code",
   "execution_count": 16,
   "metadata": {},
   "outputs": [
    {
     "data": {
      "text/plain": [
       "<matplotlib.axes._subplots.AxesSubplot at 0x12479f2b0>"
      ]
     },
     "execution_count": 16,
     "metadata": {},
     "output_type": "execute_result"
    },
    {
     "data": {
      "image/png": "[encoded data removed]",
      "text/plain": [
       "<Figure size 432x288 with 1 Axes>"
      ]
     },
     "metadata": {},
     "output_type": "display_data"
    }
   ],
   "source": [
    "sns.countplot(x='hy_scale', data=data, hue='age_range')"
   ]
  },
  {
   "cell_type": "markdown",
   "metadata": {},
   "source": [
    "## UPDRS Total"
   ]
  },
  {
   "cell_type": "code",
   "execution_count": 17,
   "metadata": {},
   "outputs": [
    {
     "data": {
      "text/plain": [
       "status\n",
       "0          NaN\n",
       "1    20.233333\n",
       "2     5.160000\n",
       "Name: updrs_total, dtype: float64"
      ]
     },
     "execution_count": 17,
     "metadata": {},
     "output_type": "execute_result"
    }
   ],
   "source": [
    "data.groupby(\"status\")['updrs_total'].mean()"
   ]
  },
  {
   "cell_type": "code",
   "execution_count": 18,
   "metadata": {},
   "outputs": [
    {
     "data": {
      "text/plain": [
       "<seaborn.axisgrid.FacetGrid at 0x1248a2670>"
      ]
     },
     "execution_count": 18,
     "metadata": {},
     "output_type": "execute_result"
    },
    {
     "data": {
      "image/png": "[encoded data removed]",
      "text/plain": [
       "<Figure size 360x360 with 1 Axes>"
      ]
     },
     "metadata": {},
     "output_type": "display_data"
    }
   ],
   "source": [
    "sns.catplot(x=\"status\", y=\"updrs_total\", hue=\"gender\", kind=\"swarm\", data=data, legend_out=False)"
   ]
  },
  {
   "cell_type": "markdown",
   "metadata": {},
   "source": [
    "## UPDRS Scale Items"
   ]
  },
  {
   "cell_type": "code",
   "execution_count": 19,
   "metadata": {},
   "outputs": [
    {
     "data": {
      "application/vnd.jupyter.widget-view+json": {
       "model_id": "cade7df9476949a9a3e307ae19c03e5d",
       "version_major": 2,
       "version_minor": 0
      },
      "text/plain": [
       "Dropdown(description='Feature:', options=('updrs_speech', 'updrs_face_exp', 'updrs_tremor_rest_head', 'updrs_t…"
      ]
     },
     "metadata": {},
     "output_type": "display_data"
    },
    {
     "data": {
      "image/png": "[encoded data removed]",
      "text/plain": [
       "<Figure size 432x288 with 1 Axes>"
      ]
     },
     "metadata": {},
     "output_type": "display_data"
    }
   ],
   "source": [
    "data_updrs = data.iloc[:, 12:39]\n",
    "\n",
    "options = list(data_updrs.columns)\n",
    "default = 'updrs_speech'\n",
    "\n",
    "sns.countplot(x=default, data=data, hue='status')\n",
    "plt.legend(title='Status', loc='upper right', labels=['HC', 'PD', 'RBD'])\n",
    "\n",
    "w = widgets.Dropdown(\n",
    "    options=options,\n",
    "    value = default,\n",
    "    description='Feature:'\n",
    "    )\n",
    "display(w)\n",
    "\n",
    "def on_change(change):\n",
    "        clear_output()\n",
    "        display(w)\n",
    "        sns.countplot(x=w.value, data=data, hue='status')\n",
    "        plt.legend(title='Status', loc='upper right', labels=['HC', 'PD', 'RBD'])\n",
    "\n",
    "w.observe(on_change)"
   ]
  },
  {
   "cell_type": "code",
   "execution_count": 20,
   "metadata": {},
   "outputs": [
    {
     "data": {
      "application/vnd.jupyter.widget-view+json": {
       "model_id": "7fcfc4f4bc7f44dea8c0fd1be3e5d47e",
       "version_major": 2,
       "version_minor": 0
      },
      "text/plain": [
       "Dropdown(description='Feature:', options=('updrs_speech', 'updrs_face_exp', 'updrs_tremor_rest_head', 'updrs_t…"
      ]
     },
     "metadata": {},
     "output_type": "display_data"
    },
    {
     "data": {
      "image/png": "[encoded data removed]",
      "text/plain": [
       "<Figure size 432x288 with 1 Axes>"
      ]
     },
     "metadata": {},
     "output_type": "display_data"
    }
   ],
   "source": [
    "sns.countplot(x=default, data=data, hue='gender')\n",
    "plt.legend(title='Gender', loc='upper right', labels=['Female', 'Male'])\n",
    "\n",
    "w = widgets.Dropdown(\n",
    "    options=options,\n",
    "    value = default,\n",
    "    description='Feature:'\n",
    "    )\n",
    "display(w)\n",
    "\n",
    "def on_change(change):\n",
    "        clear_output()\n",
    "        display(w)\n",
    "        sns.countplot(x=w.value, data=data, hue='gender')\n",
    "        plt.legend(title='Gender', loc='upper right', labels=['Female', 'Male'])\n",
    "\n",
    "w.observe(on_change)"
   ]
  },
  {
   "cell_type": "code",
   "execution_count": 21,
   "metadata": {},
   "outputs": [
    {
     "data": {
      "application/vnd.jupyter.widget-view+json": {
       "model_id": "84391b97f49649439714ec57af310ddc",
       "version_major": 2,
       "version_minor": 0
      },
      "text/plain": [
       "Dropdown(description='Feature:', options=('updrs_speech', 'updrs_face_exp', 'updrs_tremor_rest_head', 'updrs_t…"
      ]
     },
     "metadata": {},
     "output_type": "display_data"
    },
    {
     "data": {
      "image/png": "[encoded data removed]",
      "text/plain": [
       "<Figure size 432x288 with 1 Axes>"
      ]
     },
     "metadata": {},
     "output_type": "display_data"
    }
   ],
   "source": [
    "sns.countplot(x=default, data=data, hue='age_range')\n",
    "plt.legend(title='Gender', loc='upper right', labels=data['age_range'].unique())\n",
    "\n",
    "w = widgets.Dropdown(\n",
    "    options=options,\n",
    "    value = default,\n",
    "    description='Feature:'\n",
    "    )\n",
    "display(w)\n",
    "\n",
    "def on_change(change):\n",
    "        clear_output()\n",
    "        display(w)\n",
    "        sns.countplot(x=w.value, data=data, hue='age_range')\n",
    "        plt.legend(title='Gender', loc='upper right', labels=data['age_range'].unique())\n",
    "\n",
    "w.observe(on_change)"
   ]
  },
  {
   "cell_type": "markdown",
   "metadata": {},
   "source": [
    "## Passage and Monologue Speech Examintation"
   ]
  },
  {
   "cell_type": "code",
   "execution_count": 22,
   "metadata": {},
   "outputs": [
    {
     "data": {
      "application/vnd.jupyter.widget-view+json": {
       "model_id": "a40e11d1b768455e94d6ebcc5b873d2f",
       "version_major": 2,
       "version_minor": 0
      },
      "text/plain": [
       "Dropdown(description='Feature:', options=('pass_est', 'pass_rst', 'pass_ast', 'pass_dpi', 'pass_dvi', 'pass_gv…"
      ]
     },
     "metadata": {},
     "output_type": "display_data"
    },
    {
     "data": {
      "image/png": "[encoded data removed]",
      "text/plain": [
       "<Figure size 432x288 with 1 Axes>"
      ]
     },
     "metadata": {},
     "output_type": "display_data"
    }
   ],
   "source": [
    "data_speech = data.iloc[:, 39:]\n",
    "options2 = list(data_speech.columns)\n",
    "default2 = data_speech['pass_est']\n",
    "\n",
    "sns.distplot(default2)\n",
    "    \n",
    "w2 = widgets.Dropdown(\n",
    "    options=options2,\n",
    "    value = 'pass_est',\n",
    "    description='Feature:'\n",
    "    )\n",
    "\n",
    "display(w2)\n",
    "\n",
    "def on_change(change):\n",
    "    clear_output()\n",
    "    x = w2.value\n",
    "    sns.distplot(data_speech[x])\n",
    "    display(w2)\n",
    "    \n",
    "w2.observe(on_change)"
   ]
  },
  {
   "cell_type": "code",
   "execution_count": 23,
   "metadata": {},
   "outputs": [
    {
     "name": "stdout",
     "output_type": "stream",
     "text": [
      "status\n",
      "0    1.552593\n",
      "1    1.551529\n",
      "2    1.549475\n",
      "Name: pass_est, dtype: float64\n"
     ]
    },
    {
     "data": {
      "text/plain": [
       "<seaborn.axisgrid.FacetGrid at 0x1246a1070>"
      ]
     },
     "execution_count": 23,
     "metadata": {},
     "output_type": "execute_result"
    },
    {
     "data": {
      "image/png": "[encoded data removed]",
      "text/plain": [
       "<Figure size 360x360 with 1 Axes>"
      ]
     },
     "metadata": {},
     "output_type": "display_data"
    }
   ],
   "source": [
    "print(data.groupby(\"status\")['pass_est'].mean())\n",
    "sns.catplot(x=\"status\", y=\"pass_est\", hue=\"age_range\", kind=\"swarm\", data=data, legend_out=False)"
   ]
  }
 ],
 "metadata": {
  "kernelspec": {
   "display_name": "Python 3",
   "language": "python",
   "name": "python3"
  },
  "language_info": {
   "codemirror_mode": {
    "name": "ipython",
    "version": 3
   },
   "file_extension": ".py",
   "mimetype": "text/x-python",
   "name": "python",
   "nbconvert_exporter": "python",
   "pygments_lexer": "ipython3",
   "version": "3.8.2"
  }
 },
 "nbformat": 4,
 "nbformat_minor": 4
}

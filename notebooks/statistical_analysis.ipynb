{
 "cells": [
  {
   "cell_type": "code",
   "execution_count": 1,
   "metadata": {},
   "outputs": [],
   "source": [
    "import pandas as pd\n",
    "import sys\n",
    "sys.path.append('../src/data/')\n",
    "import data_wrangling as dw\n",
    "\n",
    "from sklearn import preprocessing\n",
    "from statsmodels.formula.api import ols\n",
    "from scipy.stats import chi2_contingency"
   ]
  },
  {
   "cell_type": "markdown",
   "metadata": {},
   "source": [
    "## Seperate data into discrete and continuous features"
   ]
  },
  {
   "cell_type": "code",
   "execution_count": 2,
   "metadata": {},
   "outputs": [],
   "source": [
    "#create data set for statistical analysis\n",
    "df =  dw.clean_data(pd.read_excel(\"../data/raw/pd_rbd.xls\", header=1))"
   ]
  },
  {
   "cell_type": "code",
   "execution_count": 3,
   "metadata": {},
   "outputs": [],
   "source": [
    "#create a dataframe of discrete variables\n",
    "discrete = df[['status', 'gender']]"
   ]
  },
  {
   "cell_type": "code",
   "execution_count": 4,
   "metadata": {},
   "outputs": [],
   "source": [
    "#normalize continuous variables\n",
    "X = df.iloc[:,-24:]\n",
    "normalized_X = preprocessing.normalize(X)"
   ]
  },
  {
   "cell_type": "code",
   "execution_count": 5,
   "metadata": {},
   "outputs": [
    {
     "name": "stderr",
     "output_type": "stream",
     "text": [
      "/Users/ndriver/opt/anaconda3/envs/Springboard-Capstone-2/lib/python3.8/site-packages/pandas/core/frame.py:2963: SettingWithCopyWarning: \n",
      "A value is trying to be set on a copy of a slice from a DataFrame.\n",
      "Try using .loc[row_indexer,col_indexer] = value instead\n",
      "\n",
      "See the caveats in the documentation: https://pandas.pydata.org/pandas-docs/stable/user_guide/indexing.html#returning-a-view-versus-a-copy\n",
      "  self[k1] = value[k2]\n"
     ]
    }
   ],
   "source": [
    "#create a dataframe of continuous variables\n",
    "continuous = df[['status', 'age']]\n",
    "continuous[df.iloc[:,-24:].columns] = pd.DataFrame(normalized_X)"
   ]
  },
  {
   "cell_type": "code",
   "execution_count": 6,
   "metadata": {},
   "outputs": [],
   "source": [
    "cont_feat = continuous.drop(['status'], axis=1).columns"
   ]
  },
  {
   "cell_type": "markdown",
   "metadata": {},
   "source": [
    "## ANOVA"
   ]
  },
  {
   "cell_type": "code",
   "execution_count": 7,
   "metadata": {},
   "outputs": [
    {
     "name": "stdout",
     "output_type": "stream",
     "text": [
      "age p =  0.4495\n",
      "pass_est p =  0.5200\n",
      "pass_rst p =  0.0394\n",
      "pass_ast p =  0.1575\n",
      "pass_dpi p =  0.0073\n",
      "pass_dvi p =  0.1952\n",
      "pass_gvi p =  0.3964\n",
      "pass_dus p =  0.2233\n",
      "pass_duf p =  0.1533\n",
      "pass_rlr p =  0.0385\n",
      "pass_pir p =  0.1253\n",
      "pass_rsr p =  0.7190\n",
      "pass_lre p =  0.0175\n",
      "mono_est p =  0.5407\n",
      "mono_rst p =  0.0019\n",
      "mono_ast p =  0.3507\n",
      "mono_dpi p =  0.0018\n",
      "mono_dvi p =  0.0226\n",
      "mono_gvi p =  0.3343\n",
      "mono_dus p =  0.0002\n",
      "mono_duf p =  0.2152\n",
      "mono_rlr p =  0.6164\n",
      "mono_pir p =  0.0139\n",
      "mono_rsr p =  0.0434\n",
      "mono_lre p =  0.3767\n"
     ]
    },
    {
     "data": {
      "text/plain": [
       "['pass_rst',\n",
       " 'pass_dpi',\n",
       " 'pass_rlr',\n",
       " 'pass_lre',\n",
       " 'mono_rst',\n",
       " 'mono_dpi',\n",
       " 'mono_dvi',\n",
       " 'mono_dus',\n",
       " 'mono_pir',\n",
       " 'mono_rsr']"
      ]
     },
     "execution_count": 7,
     "metadata": {},
     "output_type": "execute_result"
    }
   ],
   "source": [
    "#Find p-value for continuous values using ANOVA\n",
    "p_sig = []\n",
    "for feature in cont_feat:\n",
    "    model = ols('status ~ '+feature, continuous).fit()\n",
    "    print(feature + f\" p = {model.f_pvalue: .4f}\")\n",
    "    if model.f_pvalue < .05:\n",
    "        p_sig.append(feature)\n",
    "p_sig\n",
    "    "
   ]
  },
  {
   "cell_type": "code",
   "execution_count": 8,
   "metadata": {},
   "outputs": [],
   "source": [
    "p_sig_input = \"+\".join(p_sig)"
   ]
  },
  {
   "cell_type": "code",
   "execution_count": 9,
   "metadata": {},
   "outputs": [],
   "source": [
    "#create model with all significant continuous features\n",
    "model = ols('status ~ '+p_sig_input , continuous).fit()"
   ]
  },
  {
   "cell_type": "code",
   "execution_count": 10,
   "metadata": {},
   "outputs": [
    {
     "data": {
      "text/html": [
       "<table class=\"simpletable\">\n",
       "<caption>OLS Regression Results</caption>\n",
       "<tr>\n",
       "  <th>Dep. Variable:</th>         <td>status</td>      <th>  R-squared:         </th> <td>   0.267</td>\n",
       "</tr>\n",
       "<tr>\n",
       "  <th>Model:</th>                   <td>OLS</td>       <th>  Adj. R-squared:    </th> <td>   0.206</td>\n",
       "</tr>\n",
       "<tr>\n",
       "  <th>Method:</th>             <td>Least Squares</td>  <th>  F-statistic:       </th> <td>   4.338</td>\n",
       "</tr>\n",
       "<tr>\n",
       "  <th>Date:</th>             <td>Thu, 07 May 2020</td> <th>  Prob (F-statistic):</th> <td>3.52e-05</td>\n",
       "</tr>\n",
       "<tr>\n",
       "  <th>Time:</th>                 <td>16:09:38</td>     <th>  Log-Likelihood:    </th> <td> -147.21</td>\n",
       "</tr>\n",
       "<tr>\n",
       "  <th>No. Observations:</th>      <td>   130</td>      <th>  AIC:               </th> <td>   316.4</td>\n",
       "</tr>\n",
       "<tr>\n",
       "  <th>Df Residuals:</th>          <td>   119</td>      <th>  BIC:               </th> <td>   348.0</td>\n",
       "</tr>\n",
       "<tr>\n",
       "  <th>Df Model:</th>              <td>    10</td>      <th>                     </th>     <td> </td>   \n",
       "</tr>\n",
       "<tr>\n",
       "  <th>Covariance Type:</th>      <td>nonrobust</td>    <th>                     </th>     <td> </td>   \n",
       "</tr>\n",
       "</table>\n",
       "<table class=\"simpletable\">\n",
       "<tr>\n",
       "      <td></td>         <th>coef</th>     <th>std err</th>      <th>t</th>      <th>P>|t|</th>  <th>[0.025</th>    <th>0.975]</th>  \n",
       "</tr>\n",
       "<tr>\n",
       "  <th>Intercept</th> <td>   -0.6787</td> <td>    2.372</td> <td>   -0.286</td> <td> 0.775</td> <td>   -5.376</td> <td>    4.018</td>\n",
       "</tr>\n",
       "<tr>\n",
       "  <th>pass_rst</th>  <td>    1.1936</td> <td>    1.752</td> <td>    0.681</td> <td> 0.497</td> <td>   -2.277</td> <td>    4.664</td>\n",
       "</tr>\n",
       "<tr>\n",
       "  <th>pass_dpi</th>  <td>    4.7893</td> <td>    2.050</td> <td>    2.336</td> <td> 0.021</td> <td>    0.730</td> <td>    8.849</td>\n",
       "</tr>\n",
       "<tr>\n",
       "  <th>pass_rlr</th>  <td>   30.6431</td> <td>   16.351</td> <td>    1.874</td> <td> 0.063</td> <td>   -1.734</td> <td>   63.020</td>\n",
       "</tr>\n",
       "<tr>\n",
       "  <th>pass_lre</th>  <td>   -2.2550</td> <td>    1.154</td> <td>   -1.954</td> <td> 0.053</td> <td>   -4.541</td> <td>    0.031</td>\n",
       "</tr>\n",
       "<tr>\n",
       "  <th>mono_rst</th>  <td>   -2.7202</td> <td>    2.805</td> <td>   -0.970</td> <td> 0.334</td> <td>   -8.273</td> <td>    2.833</td>\n",
       "</tr>\n",
       "<tr>\n",
       "  <th>mono_dpi</th>  <td>    0.6142</td> <td>    2.259</td> <td>    0.272</td> <td> 0.786</td> <td>   -3.859</td> <td>    5.087</td>\n",
       "</tr>\n",
       "<tr>\n",
       "  <th>mono_dvi</th>  <td>    0.0446</td> <td>    2.186</td> <td>    0.020</td> <td> 0.984</td> <td>   -4.284</td> <td>    4.373</td>\n",
       "</tr>\n",
       "<tr>\n",
       "  <th>mono_dus</th>  <td>   23.3568</td> <td>    8.930</td> <td>    2.616</td> <td> 0.010</td> <td>    5.675</td> <td>   41.039</td>\n",
       "</tr>\n",
       "<tr>\n",
       "  <th>mono_pir</th>  <td>   94.6881</td> <td>   48.110</td> <td>    1.968</td> <td> 0.051</td> <td>   -0.575</td> <td>  189.951</td>\n",
       "</tr>\n",
       "<tr>\n",
       "  <th>mono_rsr</th>  <td>   33.3682</td> <td>   16.478</td> <td>    2.025</td> <td> 0.045</td> <td>    0.740</td> <td>   65.996</td>\n",
       "</tr>\n",
       "</table>\n",
       "<table class=\"simpletable\">\n",
       "<tr>\n",
       "  <th>Omnibus:</th>       <td>10.997</td> <th>  Durbin-Watson:     </th> <td>   0.589</td>\n",
       "</tr>\n",
       "<tr>\n",
       "  <th>Prob(Omnibus):</th> <td> 0.004</td> <th>  Jarque-Bera (JB):  </th> <td>   4.875</td>\n",
       "</tr>\n",
       "<tr>\n",
       "  <th>Skew:</th>          <td> 0.218</td> <th>  Prob(JB):          </th> <td>  0.0874</td>\n",
       "</tr>\n",
       "<tr>\n",
       "  <th>Kurtosis:</th>      <td> 2.157</td> <th>  Cond. No.          </th> <td>    941.</td>\n",
       "</tr>\n",
       "</table><br/><br/>Warnings:<br/>[1] Standard Errors assume that the covariance matrix of the errors is correctly specified."
      ],
      "text/plain": [
       "<class 'statsmodels.iolib.summary.Summary'>\n",
       "\"\"\"\n",
       "                            OLS Regression Results                            \n",
       "==============================================================================\n",
       "Dep. Variable:                 status   R-squared:                       0.267\n",
       "Model:                            OLS   Adj. R-squared:                  0.206\n",
       "Method:                 Least Squares   F-statistic:                     4.338\n",
       "Date:                Thu, 07 May 2020   Prob (F-statistic):           3.52e-05\n",
       "Time:                        16:09:38   Log-Likelihood:                -147.21\n",
       "No. Observations:                 130   AIC:                             316.4\n",
       "Df Residuals:                     119   BIC:                             348.0\n",
       "Df Model:                          10                                         \n",
       "Covariance Type:            nonrobust                                         \n",
       "==============================================================================\n",
       "                 coef    std err          t      P>|t|      [0.025      0.975]\n",
       "------------------------------------------------------------------------------\n",
       "Intercept     -0.6787      2.372     -0.286      0.775      -5.376       4.018\n",
       "pass_rst       1.1936      1.752      0.681      0.497      -2.277       4.664\n",
       "pass_dpi       4.7893      2.050      2.336      0.021       0.730       8.849\n",
       "pass_rlr      30.6431     16.351      1.874      0.063      -1.734      63.020\n",
       "pass_lre      -2.2550      1.154     -1.954      0.053      -4.541       0.031\n",
       "mono_rst      -2.7202      2.805     -0.970      0.334      -8.273       2.833\n",
       "mono_dpi       0.6142      2.259      0.272      0.786      -3.859       5.087\n",
       "mono_dvi       0.0446      2.186      0.020      0.984      -4.284       4.373\n",
       "mono_dus      23.3568      8.930      2.616      0.010       5.675      41.039\n",
       "mono_pir      94.6881     48.110      1.968      0.051      -0.575     189.951\n",
       "mono_rsr      33.3682     16.478      2.025      0.045       0.740      65.996\n",
       "==============================================================================\n",
       "Omnibus:                       10.997   Durbin-Watson:                   0.589\n",
       "Prob(Omnibus):                  0.004   Jarque-Bera (JB):                4.875\n",
       "Skew:                           0.218   Prob(JB):                       0.0874\n",
       "Kurtosis:                       2.157   Cond. No.                         941.\n",
       "==============================================================================\n",
       "\n",
       "Warnings:\n",
       "[1] Standard Errors assume that the covariance matrix of the errors is correctly specified.\n",
       "\"\"\""
      ]
     },
     "execution_count": 10,
     "metadata": {},
     "output_type": "execute_result"
    }
   ],
   "source": [
    "model.summary()"
   ]
  },
  {
   "cell_type": "markdown",
   "metadata": {},
   "source": [
    "### Chi-Square Test"
   ]
  },
  {
   "cell_type": "code",
   "execution_count": 11,
   "metadata": {},
   "outputs": [],
   "source": [
    "#create cross tabulation of gender and status\n",
    "chi_gender = pd.crosstab(discrete.status, discrete.gender)"
   ]
  },
  {
   "cell_type": "code",
   "execution_count": 12,
   "metadata": {},
   "outputs": [
    {
     "name": "stdout",
     "output_type": "stream",
     "text": [
      "chi2: 2.019 \n",
      "p-value:  0.364 \n",
      "DOF: 2 \n",
      "Expected: [[10.38461538 39.61538462]\n",
      " [ 6.23076923 23.76923077]\n",
      " [10.38461538 39.61538462]]\n"
     ]
    }
   ],
   "source": [
    "#calculate chi-square\n",
    "chi2, p_value, dof, ex = chi2_contingency(chi_gender)\n",
    "print(f\"chi2: {chi2:.3f} \\np-value: {p_value: .3f} \\nDOF: {dof} \\nExpected: {ex}\")"
   ]
  },
  {
   "cell_type": "code",
   "execution_count": 13,
   "metadata": {},
   "outputs": [],
   "source": [
    "df1 = df[['status','age', 'gender']]\n",
    "df2 = continuous[p_sig]\n",
    "model_data = pd.concat([df1, df2], axis=1, join='inner')"
   ]
  },
  {
   "cell_type": "code",
   "execution_count": 15,
   "metadata": {},
   "outputs": [],
   "source": [
    "#save data for model\n",
    "#model_data.to_csv(\"../data/processed/model_data.csv\",index=False)"
   ]
  }
 ],
 "metadata": {
  "kernelspec": {
   "display_name": "Python 3",
   "language": "python",
   "name": "python3"
  },
  "language_info": {
   "codemirror_mode": {
    "name": "ipython",
    "version": 3
   },
   "file_extension": ".py",
   "mimetype": "text/x-python",
   "name": "python",
   "nbconvert_exporter": "python",
   "pygments_lexer": "ipython3",
   "version": "3.8.2"
  }
 },
 "nbformat": 4,
 "nbformat_minor": 4
}
